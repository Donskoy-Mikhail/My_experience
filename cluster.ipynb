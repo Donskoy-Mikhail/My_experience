{
 "cells": [
  {
   "cell_type": "markdown",
   "metadata": {
    "papermill": {
     "duration": 0.016994,
     "end_time": "2020-09-30T20:15:13.057110",
     "exception": false,
     "start_time": "2020-09-30T20:15:13.040116",
     "status": "completed"
    },
    "tags": []
   },
   "source": [
    "# Это выполненое Донским Михаилом тестовое задание"
   ]
  },
  {
   "cell_type": "markdown",
   "metadata": {
    "papermill": {
     "duration": 0.01563,
     "end_time": "2020-09-30T20:15:13.088952",
     "exception": false,
     "start_time": "2020-09-30T20:15:13.073322",
     "status": "completed"
    },
    "tags": []
   },
   "source": [
    "# Импорт и преподготовка данных"
   ]
  },
  {
   "cell_type": "code",
   "execution_count": 1,
   "metadata": {
    "_cell_guid": "b1076dfc-b9ad-4769-8c92-a6c4dae69d19",
    "_uuid": "8f2839f25d086af736a60e9eeb907d3b93b6e0e5",
    "execution": {
     "iopub.execute_input": "2020-09-30T20:15:13.128797Z",
     "iopub.status.busy": "2020-09-30T20:15:13.128003Z",
     "iopub.status.idle": "2020-09-30T20:15:14.573313Z",
     "shell.execute_reply": "2020-09-30T20:15:14.572597Z"
    },
    "papermill": {
     "duration": 1.467837,
     "end_time": "2020-09-30T20:15:14.573442",
     "exception": false,
     "start_time": "2020-09-30T20:15:13.105605",
     "status": "completed"
    },
    "tags": []
   },
   "outputs": [],
   "source": [
    "#Импортируем необходимые библиотеки\n",
    "import numpy as np \n",
    "import pandas as pd\n",
    "from sklearn.preprocessing import StandardScaler\n",
    "from sklearn.cluster import KMeans\n",
    "import seaborn as sns\n",
    "from datetime import datetime\n",
    "from tqdm import tqdm\n",
    "from sklearn.preprocessing import LabelEncoder\n",
    "import matplotlib.pyplot as plt\n",
    "from sklearn.cluster import KMeans"
   ]
  },
  {
   "cell_type": "code",
   "execution_count": 2,
   "metadata": {
    "execution": {
     "iopub.execute_input": "2020-09-30T20:15:14.613347Z",
     "iopub.status.busy": "2020-09-30T20:15:14.612547Z",
     "iopub.status.idle": "2020-09-30T20:15:14.615397Z",
     "shell.execute_reply": "2020-09-30T20:15:14.614782Z"
    },
    "papermill": {
     "duration": 0.023508,
     "end_time": "2020-09-30T20:15:14.615540",
     "exception": false,
     "start_time": "2020-09-30T20:15:14.592032",
     "status": "completed"
    },
    "tags": []
   },
   "outputs": [],
   "source": [
    "#Увеличим число отображаемых столбцов\n",
    "pd.set_option('display.max_columns', 100)"
   ]
  },
  {
   "cell_type": "code",
   "execution_count": 3,
   "metadata": {
    "_cell_guid": "79c7e3d0-c299-4dcb-8224-4455121ee9b0",
    "_uuid": "d629ff2d2480ee46fbb7e2d37f6b5fab8052498a",
    "execution": {
     "iopub.execute_input": "2020-09-30T20:15:14.658096Z",
     "iopub.status.busy": "2020-09-30T20:15:14.657336Z",
     "iopub.status.idle": "2020-09-30T20:15:36.014964Z",
     "shell.execute_reply": "2020-09-30T20:15:36.015456Z"
    },
    "papermill": {
     "duration": 21.383715,
     "end_time": "2020-09-30T20:15:36.015636",
     "exception": false,
     "start_time": "2020-09-30T20:15:14.631921",
     "status": "completed"
    },
    "tags": []
   },
   "outputs": [
    {
     "data": {
      "text/html": [
       "<div>\n",
       "<style scoped>\n",
       "    .dataframe tbody tr th:only-of-type {\n",
       "        vertical-align: middle;\n",
       "    }\n",
       "\n",
       "    .dataframe tbody tr th {\n",
       "        vertical-align: top;\n",
       "    }\n",
       "\n",
       "    .dataframe thead th {\n",
       "        text-align: right;\n",
       "    }\n",
       "</style>\n",
       "<table border=\"1\" class=\"dataframe\">\n",
       "  <thead>\n",
       "    <tr style=\"text-align: right;\">\n",
       "      <th></th>\n",
       "      <th>event_id</th>\n",
       "      <th>cookie_id</th>\n",
       "      <th>session_id</th>\n",
       "      <th>event_type</th>\n",
       "      <th>domain_id</th>\n",
       "    </tr>\n",
       "    <tr>\n",
       "      <th>date</th>\n",
       "      <th></th>\n",
       "      <th></th>\n",
       "      <th></th>\n",
       "      <th></th>\n",
       "      <th></th>\n",
       "    </tr>\n",
       "  </thead>\n",
       "  <tbody>\n",
       "    <tr>\n",
       "      <th>2020-08-18 00:00:01.065710</th>\n",
       "      <td>092656bc-da3a-42b2-87b2-bc7349cf1e91</td>\n",
       "      <td>9e2c1cf7-83a4-4fcf-9d87-63e316a0c91f</td>\n",
       "      <td>f6ffb2a7-dfbd-40d7-ad25-a08c5a3a1323</td>\n",
       "      <td>read_block                                    ...</td>\n",
       "      <td>a1fb2d2a-9c3e-49e2-a651-cf52fbf0212a</td>\n",
       "    </tr>\n",
       "    <tr>\n",
       "      <th>2020-08-18 00:00:01.066429</th>\n",
       "      <td>4ee06cf5-24cc-478f-9acf-4e286516177f</td>\n",
       "      <td>9e2c1cf7-83a4-4fcf-9d87-63e316a0c91f</td>\n",
       "      <td>f6ffb2a7-dfbd-40d7-ad25-a08c5a3a1323</td>\n",
       "      <td>read_block                                    ...</td>\n",
       "      <td>a1fb2d2a-9c3e-49e2-a651-cf52fbf0212a</td>\n",
       "    </tr>\n",
       "    <tr>\n",
       "      <th>2020-08-18 00:00:02.582822</th>\n",
       "      <td>ddc54ec1-46de-48ee-b906-9d8ce3d64b37</td>\n",
       "      <td>9e2c1cf7-83a4-4fcf-9d87-63e316a0c91f</td>\n",
       "      <td>f6ffb2a7-dfbd-40d7-ad25-a08c5a3a1323</td>\n",
       "      <td>read_block                                    ...</td>\n",
       "      <td>a1fb2d2a-9c3e-49e2-a651-cf52fbf0212a</td>\n",
       "    </tr>\n",
       "    <tr>\n",
       "      <th>2020-08-18 00:00:02.582836</th>\n",
       "      <td>a34f5180-a533-4dd0-bb0c-a61bfb40b74a</td>\n",
       "      <td>9e2c1cf7-83a4-4fcf-9d87-63e316a0c91f</td>\n",
       "      <td>f6ffb2a7-dfbd-40d7-ad25-a08c5a3a1323</td>\n",
       "      <td>read_block                                    ...</td>\n",
       "      <td>a1fb2d2a-9c3e-49e2-a651-cf52fbf0212a</td>\n",
       "    </tr>\n",
       "    <tr>\n",
       "      <th>2020-08-18 00:00:03.225834</th>\n",
       "      <td>962ae9a7-b768-46e2-b9bd-48dcdc78d0d9</td>\n",
       "      <td>b82ab5d5-228b-4f41-89c4-4eb74bfb4653</td>\n",
       "      <td>8645bfcd-c7be-4014-9f83-0c78be8d1f21</td>\n",
       "      <td>read_block                                    ...</td>\n",
       "      <td>34308d56-1149-42a1-a0d9-5652c915ac9e</td>\n",
       "    </tr>\n",
       "  </tbody>\n",
       "</table>\n",
       "</div>"
      ],
      "text/plain": [
       "                                                        event_id  \\\n",
       "date                                                               \n",
       "2020-08-18 00:00:01.065710  092656bc-da3a-42b2-87b2-bc7349cf1e91   \n",
       "2020-08-18 00:00:01.066429  4ee06cf5-24cc-478f-9acf-4e286516177f   \n",
       "2020-08-18 00:00:02.582822  ddc54ec1-46de-48ee-b906-9d8ce3d64b37   \n",
       "2020-08-18 00:00:02.582836  a34f5180-a533-4dd0-bb0c-a61bfb40b74a   \n",
       "2020-08-18 00:00:03.225834  962ae9a7-b768-46e2-b9bd-48dcdc78d0d9   \n",
       "\n",
       "                                                       cookie_id  \\\n",
       "date                                                               \n",
       "2020-08-18 00:00:01.065710  9e2c1cf7-83a4-4fcf-9d87-63e316a0c91f   \n",
       "2020-08-18 00:00:01.066429  9e2c1cf7-83a4-4fcf-9d87-63e316a0c91f   \n",
       "2020-08-18 00:00:02.582822  9e2c1cf7-83a4-4fcf-9d87-63e316a0c91f   \n",
       "2020-08-18 00:00:02.582836  9e2c1cf7-83a4-4fcf-9d87-63e316a0c91f   \n",
       "2020-08-18 00:00:03.225834  b82ab5d5-228b-4f41-89c4-4eb74bfb4653   \n",
       "\n",
       "                                                      session_id  \\\n",
       "date                                                               \n",
       "2020-08-18 00:00:01.065710  f6ffb2a7-dfbd-40d7-ad25-a08c5a3a1323   \n",
       "2020-08-18 00:00:01.066429  f6ffb2a7-dfbd-40d7-ad25-a08c5a3a1323   \n",
       "2020-08-18 00:00:02.582822  f6ffb2a7-dfbd-40d7-ad25-a08c5a3a1323   \n",
       "2020-08-18 00:00:02.582836  f6ffb2a7-dfbd-40d7-ad25-a08c5a3a1323   \n",
       "2020-08-18 00:00:03.225834  8645bfcd-c7be-4014-9f83-0c78be8d1f21   \n",
       "\n",
       "                                                                   event_type  \\\n",
       "date                                                                            \n",
       "2020-08-18 00:00:01.065710  read_block                                    ...   \n",
       "2020-08-18 00:00:01.066429  read_block                                    ...   \n",
       "2020-08-18 00:00:02.582822  read_block                                    ...   \n",
       "2020-08-18 00:00:02.582836  read_block                                    ...   \n",
       "2020-08-18 00:00:03.225834  read_block                                    ...   \n",
       "\n",
       "                                                       domain_id  \n",
       "date                                                              \n",
       "2020-08-18 00:00:01.065710  a1fb2d2a-9c3e-49e2-a651-cf52fbf0212a  \n",
       "2020-08-18 00:00:01.066429  a1fb2d2a-9c3e-49e2-a651-cf52fbf0212a  \n",
       "2020-08-18 00:00:02.582822  a1fb2d2a-9c3e-49e2-a651-cf52fbf0212a  \n",
       "2020-08-18 00:00:02.582836  a1fb2d2a-9c3e-49e2-a651-cf52fbf0212a  \n",
       "2020-08-18 00:00:03.225834  34308d56-1149-42a1-a0d9-5652c915ac9e  "
      ]
     },
     "execution_count": 3,
     "metadata": {},
     "output_type": "execute_result"
    }
   ],
   "source": [
    "# Импортируем данные\n",
    "data = pd.read_csv('../input/test-exer/data.csv')\n",
    "data.date = pd.to_datetime(data.date)\n",
    "data = data.set_index(['date'])\n",
    "data.head()"
   ]
  },
  {
   "cell_type": "code",
   "execution_count": 4,
   "metadata": {
    "execution": {
     "iopub.execute_input": "2020-09-30T20:15:36.886033Z",
     "iopub.status.busy": "2020-09-30T20:15:36.884093Z",
     "iopub.status.idle": "2020-09-30T20:15:36.915077Z",
     "shell.execute_reply": "2020-09-30T20:15:36.914542Z"
    },
    "papermill": {
     "duration": 0.882049,
     "end_time": "2020-09-30T20:15:36.915197",
     "exception": false,
     "start_time": "2020-09-30T20:15:36.033148",
     "status": "completed"
    },
    "tags": []
   },
   "outputs": [
    {
     "data": {
      "text/plain": [
       "event_id      0\n",
       "cookie_id     0\n",
       "session_id    0\n",
       "event_type    0\n",
       "domain_id     0\n",
       "dtype: int64"
      ]
     },
     "execution_count": 4,
     "metadata": {},
     "output_type": "execute_result"
    }
   ],
   "source": [
    "#Проверим на наличие пропущенных значений\n",
    "data.isnull().sum()"
   ]
  },
  {
   "cell_type": "code",
   "execution_count": 5,
   "metadata": {
    "execution": {
     "iopub.execute_input": "2020-09-30T20:15:36.955125Z",
     "iopub.status.busy": "2020-09-30T20:15:36.954374Z",
     "iopub.status.idle": "2020-09-30T20:15:36.958724Z",
     "shell.execute_reply": "2020-09-30T20:15:36.958052Z"
    },
    "papermill": {
     "duration": 0.02615,
     "end_time": "2020-09-30T20:15:36.958845",
     "exception": false,
     "start_time": "2020-09-30T20:15:36.932695",
     "status": "completed"
    },
    "tags": []
   },
   "outputs": [
    {
     "data": {
      "text/plain": [
       "(4124734, 5)"
      ]
     },
     "execution_count": 5,
     "metadata": {},
     "output_type": "execute_result"
    }
   ],
   "source": [
    "#Посмотрим размерность данных\n",
    "data.shape"
   ]
  },
  {
   "cell_type": "code",
   "execution_count": 6,
   "metadata": {
    "execution": {
     "iopub.execute_input": "2020-09-30T20:15:37.003747Z",
     "iopub.status.busy": "2020-09-30T20:15:37.002792Z",
     "iopub.status.idle": "2020-09-30T20:15:37.075085Z",
     "shell.execute_reply": "2020-09-30T20:15:37.073457Z"
    },
    "papermill": {
     "duration": 0.098318,
     "end_time": "2020-09-30T20:15:37.075232",
     "exception": false,
     "start_time": "2020-09-30T20:15:36.976914",
     "status": "completed"
    },
    "tags": []
   },
   "outputs": [
    {
     "name": "stdout",
     "output_type": "stream",
     "text": [
      "<class 'pandas.core.frame.DataFrame'>\n",
      "DatetimeIndex: 4124734 entries, 2020-08-18 00:00:01.065710 to 2020-09-08 23:59:54.218274\n",
      "Data columns (total 5 columns):\n",
      " #   Column      Dtype \n",
      "---  ------      ----- \n",
      " 0   event_id    object\n",
      " 1   cookie_id   object\n",
      " 2   session_id  object\n",
      " 3   event_type  object\n",
      " 4   domain_id   object\n",
      "dtypes: object(5)\n",
      "memory usage: 188.8+ MB\n",
      "None\n"
     ]
    }
   ],
   "source": [
    "print(data.info())"
   ]
  },
  {
   "cell_type": "code",
   "execution_count": 7,
   "metadata": {
    "execution": {
     "iopub.execute_input": "2020-09-30T20:15:37.120286Z",
     "iopub.status.busy": "2020-09-30T20:15:37.119561Z",
     "iopub.status.idle": "2020-09-30T20:15:57.014436Z",
     "shell.execute_reply": "2020-09-30T20:15:57.013879Z"
    },
    "papermill": {
     "duration": 19.920802,
     "end_time": "2020-09-30T20:15:57.014571",
     "exception": false,
     "start_time": "2020-09-30T20:15:37.093769",
     "status": "completed"
    },
    "tags": []
   },
   "outputs": [
    {
     "data": {
      "text/html": [
       "<div>\n",
       "<style scoped>\n",
       "    .dataframe tbody tr th:only-of-type {\n",
       "        vertical-align: middle;\n",
       "    }\n",
       "\n",
       "    .dataframe tbody tr th {\n",
       "        vertical-align: top;\n",
       "    }\n",
       "\n",
       "    .dataframe thead th {\n",
       "        text-align: right;\n",
       "    }\n",
       "</style>\n",
       "<table border=\"1\" class=\"dataframe\">\n",
       "  <thead>\n",
       "    <tr style=\"text-align: right;\">\n",
       "      <th></th>\n",
       "      <th>date</th>\n",
       "      <th>event_id</th>\n",
       "      <th>cookie_id</th>\n",
       "      <th>session_id</th>\n",
       "      <th>event_type</th>\n",
       "      <th>domain_id</th>\n",
       "      <th>hour</th>\n",
       "      <th>weekday</th>\n",
       "      <th>is_weekend</th>\n",
       "    </tr>\n",
       "  </thead>\n",
       "  <tbody>\n",
       "    <tr>\n",
       "      <th>0</th>\n",
       "      <td>2020-08-18 00:00:01.065710</td>\n",
       "      <td>147840</td>\n",
       "      <td>102982</td>\n",
       "      <td>231455</td>\n",
       "      <td>read_block                                    ...</td>\n",
       "      <td>6</td>\n",
       "      <td>0</td>\n",
       "      <td>1</td>\n",
       "      <td>0</td>\n",
       "    </tr>\n",
       "    <tr>\n",
       "      <th>1</th>\n",
       "      <td>2020-08-18 00:00:01.066429</td>\n",
       "      <td>1270509</td>\n",
       "      <td>102982</td>\n",
       "      <td>231455</td>\n",
       "      <td>read_block                                    ...</td>\n",
       "      <td>6</td>\n",
       "      <td>0</td>\n",
       "      <td>1</td>\n",
       "      <td>0</td>\n",
       "    </tr>\n",
       "    <tr>\n",
       "      <th>2</th>\n",
       "      <td>2020-08-18 00:00:02.582822</td>\n",
       "      <td>3572350</td>\n",
       "      <td>102982</td>\n",
       "      <td>231455</td>\n",
       "      <td>read_block                                    ...</td>\n",
       "      <td>6</td>\n",
       "      <td>0</td>\n",
       "      <td>1</td>\n",
       "      <td>0</td>\n",
       "    </tr>\n",
       "    <tr>\n",
       "      <th>3</th>\n",
       "      <td>2020-08-18 00:00:02.582836</td>\n",
       "      <td>2630228</td>\n",
       "      <td>102982</td>\n",
       "      <td>231455</td>\n",
       "      <td>read_block                                    ...</td>\n",
       "      <td>6</td>\n",
       "      <td>0</td>\n",
       "      <td>1</td>\n",
       "      <td>0</td>\n",
       "    </tr>\n",
       "    <tr>\n",
       "      <th>4</th>\n",
       "      <td>2020-08-18 00:00:03.225834</td>\n",
       "      <td>2419045</td>\n",
       "      <td>119943</td>\n",
       "      <td>126137</td>\n",
       "      <td>read_block                                    ...</td>\n",
       "      <td>2</td>\n",
       "      <td>0</td>\n",
       "      <td>1</td>\n",
       "      <td>0</td>\n",
       "    </tr>\n",
       "  </tbody>\n",
       "</table>\n",
       "</div>"
      ],
      "text/plain": [
       "                        date  event_id  cookie_id  session_id  \\\n",
       "0 2020-08-18 00:00:01.065710    147840     102982      231455   \n",
       "1 2020-08-18 00:00:01.066429   1270509     102982      231455   \n",
       "2 2020-08-18 00:00:02.582822   3572350     102982      231455   \n",
       "3 2020-08-18 00:00:02.582836   2630228     102982      231455   \n",
       "4 2020-08-18 00:00:03.225834   2419045     119943      126137   \n",
       "\n",
       "                                          event_type  domain_id  hour  \\\n",
       "0  read_block                                    ...          6     0   \n",
       "1  read_block                                    ...          6     0   \n",
       "2  read_block                                    ...          6     0   \n",
       "3  read_block                                    ...          6     0   \n",
       "4  read_block                                    ...          2     0   \n",
       "\n",
       "   weekday  is_weekend  \n",
       "0        1           0  \n",
       "1        1           0  \n",
       "2        1           0  \n",
       "3        1           0  \n",
       "4        1           0  "
      ]
     },
     "execution_count": 7,
     "metadata": {},
     "output_type": "execute_result"
    }
   ],
   "source": [
    "# Извлечем из даты такие признаки как час, день недели и выходной ли этот день\n",
    "data[\"hour\"] = data.index.hour\n",
    "data[\"weekday\"] = data.index.weekday\n",
    "data['is_weekend'] = data.weekday.isin([5,6])*1\n",
    "data = data.reset_index()\n",
    "\n",
    "#Перекодируем признаки\n",
    "labelencoder = LabelEncoder()\n",
    "data['domain_id'] = labelencoder.fit_transform(data['domain_id'])\n",
    "data['session_id'] = labelencoder.fit_transform(data['session_id'])\n",
    "data['cookie_id'] = labelencoder.fit_transform(data['cookie_id'])\n",
    "data['event_id'] = labelencoder.fit_transform(data['event_id'])\n",
    "\n",
    "data.head()"
   ]
  },
  {
   "cell_type": "code",
   "execution_count": 8,
   "metadata": {
    "execution": {
     "iopub.execute_input": "2020-09-30T20:15:57.059813Z",
     "iopub.status.busy": "2020-09-30T20:15:57.058751Z",
     "iopub.status.idle": "2020-09-30T20:15:57.688071Z",
     "shell.execute_reply": "2020-09-30T20:15:57.687214Z"
    },
    "papermill": {
     "duration": 0.653685,
     "end_time": "2020-09-30T20:15:57.688231",
     "exception": false,
     "start_time": "2020-09-30T20:15:57.034546",
     "status": "completed"
    },
    "tags": []
   },
   "outputs": [
    {
     "name": "stdout",
     "output_type": "stream",
     "text": [
      "[1]\n"
     ]
    }
   ],
   "source": [
    "#Провери на наличие дубликатов\n",
    "event = pd.DataFrame(data['event_id'].value_counts()).reset_index()\n",
    "print(event.event_id.unique())"
   ]
  },
  {
   "cell_type": "markdown",
   "metadata": {
    "papermill": {
     "duration": 0.018629,
     "end_time": "2020-09-30T20:15:57.726420",
     "exception": false,
     "start_time": "2020-09-30T20:15:57.707791",
     "status": "completed"
    },
    "tags": []
   },
   "source": [
    "# Проведем анализ данных"
   ]
  },
  {
   "cell_type": "code",
   "execution_count": 9,
   "metadata": {
    "execution": {
     "iopub.execute_input": "2020-09-30T20:15:57.768313Z",
     "iopub.status.busy": "2020-09-30T20:15:57.767714Z",
     "iopub.status.idle": "2020-09-30T20:15:58.173553Z",
     "shell.execute_reply": "2020-09-30T20:15:58.172956Z"
    },
    "papermill": {
     "duration": 0.428114,
     "end_time": "2020-09-30T20:15:58.173677",
     "exception": false,
     "start_time": "2020-09-30T20:15:57.745563",
     "status": "completed"
    },
    "tags": []
   },
   "outputs": [
    {
     "name": "stdout",
     "output_type": "stream",
     "text": [
      "                                                index  event_type\n",
      "0   read_block                                    ...    0.616130\n",
      "1   click                                         ...    0.145552\n",
      "2   visit                                         ...    0.092128\n",
      "3   filter_change                                 ...    0.081159\n",
      "4   hover                                         ...    0.017983\n",
      "5   choose_flat                                   ...    0.012246\n",
      "6   change_resolution                             ...    0.010731\n",
      "7   filter_mortgage_change                        ...    0.010708\n",
      "8   callback_exit                                 ...    0.009405\n",
      "9   Choose_flat                                   ...    0.002134\n",
      "10  change_slider                                 ...    0.001312\n",
      "11  click_scbform_button_callrequest              ...    0.000305\n",
      "12  submit_flat_applicaiton_click                 ...    0.000063\n",
      "13  callback_start                                ...    0.000034\n",
      "14  clcik                                         ...    0.000033\n",
      "15  chat_start                                    ...    0.000024\n",
      "16  chat_exit                                     ...    0.000018\n",
      "17  choose_dream_flat_click_podrobnee             ...    0.000010\n",
      "18  whatsUp                                       ...    0.000008\n",
      "19  taxi_exit                                     ...    0.000007\n",
      "20  taxi_start                                    ...    0.000007\n",
      "21  viber                                         ...    0.000004\n"
     ]
    }
   ],
   "source": [
    "# Посмотрим как распределены типы события\n",
    "print(pd.DataFrame(data['event_type'].value_counts(normalize = True)).reset_index())"
   ]
  },
  {
   "cell_type": "code",
   "execution_count": 10,
   "metadata": {
    "execution": {
     "iopub.execute_input": "2020-09-30T20:15:58.616630Z",
     "iopub.status.busy": "2020-09-30T20:15:58.452099Z",
     "iopub.status.idle": "2020-09-30T20:15:58.901686Z",
     "shell.execute_reply": "2020-09-30T20:15:58.901124Z"
    },
    "papermill": {
     "duration": 0.707652,
     "end_time": "2020-09-30T20:15:58.901807",
     "exception": false,
     "start_time": "2020-09-30T20:15:58.194155",
     "status": "completed"
    },
    "tags": []
   },
   "outputs": [
    {
     "data": {
      "image/png": "[encoded data removed]",
      "text/plain": [
       "<Figure size 2160x720 with 1 Axes>"
      ]
     },
     "metadata": {
      "needs_background": "light"
     },
     "output_type": "display_data"
    }
   ],
   "source": [
    "# Нарисуем расположенные выше результаты\n",
    "count_event = pd.DataFrame(data['event_type'].value_counts(normalize = True)).reset_index()\n",
    "count_event['index'] = count_event['index'].replace(r'\\s+','',regex=True)\n",
    "plt.figure(figsize = (30,10))\n",
    "plt.bar(count_event['index'][0:11],count_event['event_type'][0:11])\n",
    "plt.title('Доля типов событий в данных')\n",
    "plt.xlabel('События')\n",
    "plt.show()"
   ]
  },
  {
   "cell_type": "code",
   "execution_count": 11,
   "metadata": {
    "execution": {
     "iopub.execute_input": "2020-09-30T20:15:58.948196Z",
     "iopub.status.busy": "2020-09-30T20:15:58.947551Z",
     "iopub.status.idle": "2020-09-30T20:15:58.994085Z",
     "shell.execute_reply": "2020-09-30T20:15:58.993565Z"
    },
    "papermill": {
     "duration": 0.071789,
     "end_time": "2020-09-30T20:15:58.994196",
     "exception": false,
     "start_time": "2020-09-30T20:15:58.922407",
     "status": "completed"
    },
    "tags": []
   },
   "outputs": [
    {
     "data": {
      "text/html": [
       "<div>\n",
       "<style scoped>\n",
       "    .dataframe tbody tr th:only-of-type {\n",
       "        vertical-align: middle;\n",
       "    }\n",
       "\n",
       "    .dataframe tbody tr th {\n",
       "        vertical-align: top;\n",
       "    }\n",
       "\n",
       "    .dataframe thead th {\n",
       "        text-align: right;\n",
       "    }\n",
       "</style>\n",
       "<table border=\"1\" class=\"dataframe\">\n",
       "  <thead>\n",
       "    <tr style=\"text-align: right;\">\n",
       "      <th></th>\n",
       "      <th>index</th>\n",
       "      <th>domain_id</th>\n",
       "    </tr>\n",
       "  </thead>\n",
       "  <tbody>\n",
       "    <tr>\n",
       "      <th>0</th>\n",
       "      <td>5</td>\n",
       "      <td>0.285882</td>\n",
       "    </tr>\n",
       "    <tr>\n",
       "      <th>1</th>\n",
       "      <td>0</td>\n",
       "      <td>0.282408</td>\n",
       "    </tr>\n",
       "    <tr>\n",
       "      <th>2</th>\n",
       "      <td>6</td>\n",
       "      <td>0.243413</td>\n",
       "    </tr>\n",
       "    <tr>\n",
       "      <th>3</th>\n",
       "      <td>3</td>\n",
       "      <td>0.057134</td>\n",
       "    </tr>\n",
       "    <tr>\n",
       "      <th>4</th>\n",
       "      <td>2</td>\n",
       "      <td>0.040751</td>\n",
       "    </tr>\n",
       "    <tr>\n",
       "      <th>5</th>\n",
       "      <td>1</td>\n",
       "      <td>0.036545</td>\n",
       "    </tr>\n",
       "    <tr>\n",
       "      <th>6</th>\n",
       "      <td>4</td>\n",
       "      <td>0.031066</td>\n",
       "    </tr>\n",
       "    <tr>\n",
       "      <th>7</th>\n",
       "      <td>7</td>\n",
       "      <td>0.012354</td>\n",
       "    </tr>\n",
       "    <tr>\n",
       "      <th>8</th>\n",
       "      <td>8</td>\n",
       "      <td>0.010447</td>\n",
       "    </tr>\n",
       "  </tbody>\n",
       "</table>\n",
       "</div>"
      ],
      "text/plain": [
       "   index  domain_id\n",
       "0      5   0.285882\n",
       "1      0   0.282408\n",
       "2      6   0.243413\n",
       "3      3   0.057134\n",
       "4      2   0.040751\n",
       "5      1   0.036545\n",
       "6      4   0.031066\n",
       "7      7   0.012354\n",
       "8      8   0.010447"
      ]
     },
     "execution_count": 11,
     "metadata": {},
     "output_type": "execute_result"
    }
   ],
   "source": [
    "# Посмотрим на распределние сайтов\n",
    "pd.DataFrame(data['domain_id'].value_counts(normalize = True)).reset_index()"
   ]
  },
  {
   "cell_type": "code",
   "execution_count": 12,
   "metadata": {
    "execution": {
     "iopub.execute_input": "2020-09-30T20:15:59.042920Z",
     "iopub.status.busy": "2020-09-30T20:15:59.042224Z",
     "iopub.status.idle": "2020-09-30T20:15:59.229259Z",
     "shell.execute_reply": "2020-09-30T20:15:59.228609Z"
    },
    "papermill": {
     "duration": 0.213937,
     "end_time": "2020-09-30T20:15:59.229376",
     "exception": false,
     "start_time": "2020-09-30T20:15:59.015439",
     "status": "completed"
    },
    "tags": []
   },
   "outputs": [
    {
     "data": {
      "image/png": "[encoded data removed]",
      "text/plain": [
       "<Figure size 432x288 with 1 Axes>"
      ]
     },
     "metadata": {
      "needs_background": "light"
     },
     "output_type": "display_data"
    }
   ],
   "source": [
    "domain = pd.DataFrame(data['domain_id'].value_counts(normalize = True)).reset_index()\n",
    "plt.bar(domain['index'],domain['domain_id'])\n",
    "plt.title('Доля появлений сайтов в данных')\n",
    "plt.xlabel('Сайты')\n",
    "plt.show()"
   ]
  },
  {
   "cell_type": "code",
   "execution_count": 13,
   "metadata": {
    "execution": {
     "iopub.execute_input": "2020-09-30T20:15:59.279137Z",
     "iopub.status.busy": "2020-09-30T20:15:59.278382Z",
     "iopub.status.idle": "2020-09-30T20:15:59.364400Z",
     "shell.execute_reply": "2020-09-30T20:15:59.363728Z"
    },
    "papermill": {
     "duration": 0.112936,
     "end_time": "2020-09-30T20:15:59.364543",
     "exception": false,
     "start_time": "2020-09-30T20:15:59.251607",
     "status": "completed"
    },
    "tags": []
   },
   "outputs": [
    {
     "data": {
      "text/html": [
       "<div>\n",
       "<style scoped>\n",
       "    .dataframe tbody tr th:only-of-type {\n",
       "        vertical-align: middle;\n",
       "    }\n",
       "\n",
       "    .dataframe tbody tr th {\n",
       "        vertical-align: top;\n",
       "    }\n",
       "\n",
       "    .dataframe thead th {\n",
       "        text-align: right;\n",
       "    }\n",
       "</style>\n",
       "<table border=\"1\" class=\"dataframe\">\n",
       "  <thead>\n",
       "    <tr style=\"text-align: right;\">\n",
       "      <th></th>\n",
       "      <th>index</th>\n",
       "      <th>cookie_id</th>\n",
       "    </tr>\n",
       "  </thead>\n",
       "  <tbody>\n",
       "    <tr>\n",
       "      <th>0</th>\n",
       "      <td>102982</td>\n",
       "      <td>674858</td>\n",
       "    </tr>\n",
       "    <tr>\n",
       "      <th>1</th>\n",
       "      <td>89815</td>\n",
       "      <td>14692</td>\n",
       "    </tr>\n",
       "    <tr>\n",
       "      <th>2</th>\n",
       "      <td>92464</td>\n",
       "      <td>10627</td>\n",
       "    </tr>\n",
       "    <tr>\n",
       "      <th>3</th>\n",
       "      <td>103263</td>\n",
       "      <td>4799</td>\n",
       "    </tr>\n",
       "    <tr>\n",
       "      <th>4</th>\n",
       "      <td>95468</td>\n",
       "      <td>4303</td>\n",
       "    </tr>\n",
       "    <tr>\n",
       "      <th>...</th>\n",
       "      <td>...</td>\n",
       "      <td>...</td>\n",
       "    </tr>\n",
       "    <tr>\n",
       "      <th>167117</th>\n",
       "      <td>29116</td>\n",
       "      <td>1</td>\n",
       "    </tr>\n",
       "    <tr>\n",
       "      <th>167118</th>\n",
       "      <td>20779</td>\n",
       "      <td>1</td>\n",
       "    </tr>\n",
       "    <tr>\n",
       "      <th>167119</th>\n",
       "      <td>78991</td>\n",
       "      <td>1</td>\n",
       "    </tr>\n",
       "    <tr>\n",
       "      <th>167120</th>\n",
       "      <td>157130</td>\n",
       "      <td>1</td>\n",
       "    </tr>\n",
       "    <tr>\n",
       "      <th>167121</th>\n",
       "      <td>153070</td>\n",
       "      <td>1</td>\n",
       "    </tr>\n",
       "  </tbody>\n",
       "</table>\n",
       "<p>167122 rows × 2 columns</p>\n",
       "</div>"
      ],
      "text/plain": [
       "         index  cookie_id\n",
       "0       102982     674858\n",
       "1        89815      14692\n",
       "2        92464      10627\n",
       "3       103263       4799\n",
       "4        95468       4303\n",
       "...        ...        ...\n",
       "167117   29116          1\n",
       "167118   20779          1\n",
       "167119   78991          1\n",
       "167120  157130          1\n",
       "167121  153070          1\n",
       "\n",
       "[167122 rows x 2 columns]"
      ]
     },
     "execution_count": 13,
     "metadata": {},
     "output_type": "execute_result"
    }
   ],
   "source": [
    "# Посмотрим на то как часто встречаются одинаковые пользователи\n",
    "cokie = pd.DataFrame(data['cookie_id'].value_counts()).reset_index()\n",
    "cokie"
   ]
  },
  {
   "cell_type": "markdown",
   "metadata": {
    "papermill": {
     "duration": 0.022522,
     "end_time": "2020-09-30T20:15:59.409894",
     "exception": false,
     "start_time": "2020-09-30T20:15:59.387372",
     "status": "completed"
    },
    "tags": []
   },
   "source": [
    "Давайте посмотрим на то как часто встречаются пользователи с большим числом вхождений в данные. Для этого я нарисовал график,который показывает как много пользователей ось Y имеет меньшее число вхождений в данные чем число на оси X "
   ]
  },
  {
   "cell_type": "code",
   "execution_count": 14,
   "metadata": {
    "execution": {
     "iopub.execute_input": "2020-09-30T20:15:59.463879Z",
     "iopub.status.busy": "2020-09-30T20:15:59.463088Z",
     "iopub.status.idle": "2020-09-30T20:16:02.110895Z",
     "shell.execute_reply": "2020-09-30T20:16:02.111374Z"
    },
    "papermill": {
     "duration": 2.677619,
     "end_time": "2020-09-30T20:16:02.111560",
     "exception": false,
     "start_time": "2020-09-30T20:15:59.433941",
     "status": "completed"
    },
    "tags": []
   },
   "outputs": [],
   "source": [
    "rasp = []\n",
    "for i in np.linspace(1,1000,num = 1000):\n",
    "    rasp.append(len(cokie[cokie['cookie_id'] <= i]['index']))\n",
    "  "
   ]
  },
  {
   "cell_type": "code",
   "execution_count": 15,
   "metadata": {
    "execution": {
     "iopub.execute_input": "2020-09-30T20:16:02.172532Z",
     "iopub.status.busy": "2020-09-30T20:16:02.171787Z",
     "iopub.status.idle": "2020-09-30T20:16:02.336468Z",
     "shell.execute_reply": "2020-09-30T20:16:02.335739Z"
    },
    "papermill": {
     "duration": 0.200708,
     "end_time": "2020-09-30T20:16:02.336624",
     "exception": false,
     "start_time": "2020-09-30T20:16:02.135916",
     "status": "completed"
    },
    "tags": []
   },
   "outputs": [
    {
     "data": {
      "image/png": "[encoded data removed]",
      "text/plain": [
       "<Figure size 720x576 with 1 Axes>"
      ]
     },
     "metadata": {
      "needs_background": "light"
     },
     "output_type": "display_data"
    }
   ],
   "source": [
    "X = np.linspace(1,1000,num = 1000)\n",
    "plt.figure(figsize = (10,8))\n",
    "plt.plot(X,rasp)\n",
    "plt.title('Число пользователей, которые появились в данных меньше чем x раз')\n",
    "plt.xlabel('Число появлений пользователей в данных')\n",
    "plt.ylabel('Число пользователей, которы появились меньше чем x раз')\n",
    "plt.show()"
   ]
  },
  {
   "cell_type": "markdown",
   "metadata": {
    "papermill": {
     "duration": 0.024027,
     "end_time": "2020-09-30T20:16:02.386405",
     "exception": false,
     "start_time": "2020-09-30T20:16:02.362378",
     "status": "completed"
    },
    "tags": []
   },
   "source": [
    "Как можно заметить большее число пользователей входит в данные меньше, чем 10 раз в то время как в данных присутствуют пользователи которые встречаются более 1000 раз и кроме того есть пользователей который встретился в данных 674858 раза"
   ]
  },
  {
   "cell_type": "code",
   "execution_count": 16,
   "metadata": {
    "execution": {
     "iopub.execute_input": "2020-09-30T20:16:02.450627Z",
     "iopub.status.busy": "2020-09-30T20:16:02.449643Z",
     "iopub.status.idle": "2020-09-30T20:16:02.707519Z",
     "shell.execute_reply": "2020-09-30T20:16:02.706769Z"
    },
    "papermill": {
     "duration": 0.29631,
     "end_time": "2020-09-30T20:16:02.707646",
     "exception": false,
     "start_time": "2020-09-30T20:16:02.411336",
     "status": "completed"
    },
    "tags": []
   },
   "outputs": [
    {
     "data": {
      "image/png": "[encoded data removed]",
      "text/plain": [
       "<Figure size 432x288 with 1 Axes>"
      ]
     },
     "metadata": {
      "needs_background": "light"
     },
     "output_type": "display_data"
    }
   ],
   "source": [
    "#Посмотрим на распределение часов\n",
    "plt.hist(data['hour'],bins = 24)\n",
    "plt.title('Распределение активности по часам')\n",
    "plt.xlabel('Час')\n",
    "plt.show()"
   ]
  },
  {
   "cell_type": "code",
   "execution_count": 17,
   "metadata": {
    "execution": {
     "iopub.execute_input": "2020-09-30T20:16:02.779339Z",
     "iopub.status.busy": "2020-09-30T20:16:02.778264Z",
     "iopub.status.idle": "2020-09-30T20:16:03.018464Z",
     "shell.execute_reply": "2020-09-30T20:16:03.017935Z"
    },
    "papermill": {
     "duration": 0.28518,
     "end_time": "2020-09-30T20:16:03.018622",
     "exception": false,
     "start_time": "2020-09-30T20:16:02.733442",
     "status": "completed"
    },
    "tags": []
   },
   "outputs": [
    {
     "data": {
      "image/png": "[encoded data removed]",
      "text/plain": [
       "<Figure size 432x288 with 1 Axes>"
      ]
     },
     "metadata": {
      "needs_background": "light"
     },
     "output_type": "display_data"
    }
   ],
   "source": [
    "#Посмотрим на распределение дней\n",
    "plt.hist(data['weekday'],bins = 7)\n",
    "plt.title('Распределение активности по дням')\n",
    "plt.xlabel('День')\n",
    "plt.ylabel('Частота')\n",
    "plt.show()"
   ]
  },
  {
   "cell_type": "code",
   "execution_count": 18,
   "metadata": {
    "execution": {
     "iopub.execute_input": "2020-09-30T20:16:03.076405Z",
     "iopub.status.busy": "2020-09-30T20:16:03.075666Z",
     "iopub.status.idle": "2020-09-30T20:16:03.285507Z",
     "shell.execute_reply": "2020-09-30T20:16:03.284848Z"
    },
    "papermill": {
     "duration": 0.241417,
     "end_time": "2020-09-30T20:16:03.285629",
     "exception": false,
     "start_time": "2020-09-30T20:16:03.044212",
     "status": "completed"
    },
    "tags": []
   },
   "outputs": [
    {
     "data": {
      "image/png": "[encoded data removed]",
      "text/plain": [
       "<Figure size 432x288 with 1 Axes>"
      ]
     },
     "metadata": {
      "needs_background": "light"
     },
     "output_type": "display_data"
    }
   ],
   "source": [
    "#Посмотрим на распределение выходных и рабочих дней\n",
    "week = pd.DataFrame(data['is_weekend'].value_counts(normalize = True)).reset_index()\n",
    "plt.bar(week['index'],week['is_weekend'])\n",
    "plt.title('Распределение выходных и рабочих дней')\n",
    "plt.xlabel('Дни')\n",
    "plt.show()"
   ]
  },
  {
   "cell_type": "markdown",
   "metadata": {
    "papermill": {
     "duration": 0.027148,
     "end_time": "2020-09-30T20:16:03.339885",
     "exception": false,
     "start_time": "2020-09-30T20:16:03.312737",
     "status": "completed"
    },
    "tags": []
   },
   "source": [
    "# Подготовим данные и проведем кластеризацию"
   ]
  },
  {
   "cell_type": "markdown",
   "metadata": {
    "papermill": {
     "duration": 0.02693,
     "end_time": "2020-09-30T20:16:03.393775",
     "exception": false,
     "start_time": "2020-09-30T20:16:03.366845",
     "status": "completed"
    },
    "tags": []
   },
   "source": [
    "Кластеризация будет проводится методом k-средних, поскольку она обладает линейной временной сложностью (O(n)) и потому будет хорошо работать на данных из этой задачи. "
   ]
  },
  {
   "cell_type": "code",
   "execution_count": 19,
   "metadata": {
    "execution": {
     "iopub.execute_input": "2020-09-30T20:16:03.459659Z",
     "iopub.status.busy": "2020-09-30T20:16:03.458722Z",
     "iopub.status.idle": "2020-09-30T20:16:06.564261Z",
     "shell.execute_reply": "2020-09-30T20:16:06.563746Z"
    },
    "papermill": {
     "duration": 3.1428,
     "end_time": "2020-09-30T20:16:06.564383",
     "exception": false,
     "start_time": "2020-09-30T20:16:03.421583",
     "status": "completed"
    },
    "tags": []
   },
   "outputs": [],
   "source": [
    "#Подготовим данные для кластеризации\n",
    "\n",
    "data = data.drop(['date','event_id','cookie_id','session_id'], axis = 1)\n",
    "\n",
    "data['event_type'] = labelencoder.fit_transform(data['event_type'])\n",
    "data = pd.concat([pd.get_dummies(data['event_type'], prefix = 'event_type'), data.drop('event_type', axis = 1)], axis =1)\n",
    "\n",
    "data = pd.concat([pd.get_dummies(data['domain_id'], prefix = 'domain'), data.drop('domain_id', axis = 1)], axis =1)\n",
    "\n",
    "data = pd.concat([pd.get_dummies(data['weekday'], prefix = 'wd'), data.drop('weekday', axis = 1)], axis =1)\n"
   ]
  },
  {
   "cell_type": "code",
   "execution_count": 20,
   "metadata": {
    "execution": {
     "iopub.execute_input": "2020-09-30T20:16:06.638194Z",
     "iopub.status.busy": "2020-09-30T20:16:06.637449Z",
     "iopub.status.idle": "2020-09-30T20:16:06.646917Z",
     "shell.execute_reply": "2020-09-30T20:16:06.647415Z"
    },
    "papermill": {
     "duration": 0.056345,
     "end_time": "2020-09-30T20:16:06.647627",
     "exception": false,
     "start_time": "2020-09-30T20:16:06.591282",
     "status": "completed"
    },
    "tags": []
   },
   "outputs": [
    {
     "data": {
      "text/html": [
       "<div>\n",
       "<style scoped>\n",
       "    .dataframe tbody tr th:only-of-type {\n",
       "        vertical-align: middle;\n",
       "    }\n",
       "\n",
       "    .dataframe tbody tr th {\n",
       "        vertical-align: top;\n",
       "    }\n",
       "\n",
       "    .dataframe thead th {\n",
       "        text-align: right;\n",
       "    }\n",
       "</style>\n",
       "<table border=\"1\" class=\"dataframe\">\n",
       "  <thead>\n",
       "    <tr style=\"text-align: right;\">\n",
       "      <th></th>\n",
       "      <th>wd_0</th>\n",
       "      <th>wd_1</th>\n",
       "      <th>wd_2</th>\n",
       "      <th>wd_3</th>\n",
       "      <th>wd_4</th>\n",
       "      <th>wd_5</th>\n",
       "      <th>wd_6</th>\n",
       "      <th>domain_0</th>\n",
       "      <th>domain_1</th>\n",
       "      <th>domain_2</th>\n",
       "      <th>domain_3</th>\n",
       "      <th>domain_4</th>\n",
       "      <th>domain_5</th>\n",
       "      <th>domain_6</th>\n",
       "      <th>domain_7</th>\n",
       "      <th>domain_8</th>\n",
       "      <th>event_type_0</th>\n",
       "      <th>event_type_1</th>\n",
       "      <th>event_type_2</th>\n",
       "      <th>event_type_3</th>\n",
       "      <th>event_type_4</th>\n",
       "      <th>event_type_5</th>\n",
       "      <th>event_type_6</th>\n",
       "      <th>event_type_7</th>\n",
       "      <th>event_type_8</th>\n",
       "      <th>event_type_9</th>\n",
       "      <th>event_type_10</th>\n",
       "      <th>event_type_11</th>\n",
       "      <th>event_type_12</th>\n",
       "      <th>event_type_13</th>\n",
       "      <th>event_type_14</th>\n",
       "      <th>event_type_15</th>\n",
       "      <th>event_type_16</th>\n",
       "      <th>event_type_17</th>\n",
       "      <th>event_type_18</th>\n",
       "      <th>event_type_19</th>\n",
       "      <th>event_type_20</th>\n",
       "      <th>event_type_21</th>\n",
       "      <th>hour</th>\n",
       "      <th>is_weekend</th>\n",
       "    </tr>\n",
       "  </thead>\n",
       "  <tbody>\n",
       "    <tr>\n",
       "      <th>0</th>\n",
       "      <td>0</td>\n",
       "      <td>1</td>\n",
       "      <td>0</td>\n",
       "      <td>0</td>\n",
       "      <td>0</td>\n",
       "      <td>0</td>\n",
       "      <td>0</td>\n",
       "      <td>0</td>\n",
       "      <td>0</td>\n",
       "      <td>0</td>\n",
       "      <td>0</td>\n",
       "      <td>0</td>\n",
       "      <td>0</td>\n",
       "      <td>1</td>\n",
       "      <td>0</td>\n",
       "      <td>0</td>\n",
       "      <td>0</td>\n",
       "      <td>0</td>\n",
       "      <td>0</td>\n",
       "      <td>0</td>\n",
       "      <td>0</td>\n",
       "      <td>0</td>\n",
       "      <td>0</td>\n",
       "      <td>0</td>\n",
       "      <td>0</td>\n",
       "      <td>0</td>\n",
       "      <td>0</td>\n",
       "      <td>0</td>\n",
       "      <td>0</td>\n",
       "      <td>0</td>\n",
       "      <td>0</td>\n",
       "      <td>1</td>\n",
       "      <td>0</td>\n",
       "      <td>0</td>\n",
       "      <td>0</td>\n",
       "      <td>0</td>\n",
       "      <td>0</td>\n",
       "      <td>0</td>\n",
       "      <td>0</td>\n",
       "      <td>0</td>\n",
       "    </tr>\n",
       "    <tr>\n",
       "      <th>1</th>\n",
       "      <td>0</td>\n",
       "      <td>1</td>\n",
       "      <td>0</td>\n",
       "      <td>0</td>\n",
       "      <td>0</td>\n",
       "      <td>0</td>\n",
       "      <td>0</td>\n",
       "      <td>0</td>\n",
       "      <td>0</td>\n",
       "      <td>0</td>\n",
       "      <td>0</td>\n",
       "      <td>0</td>\n",
       "      <td>0</td>\n",
       "      <td>1</td>\n",
       "      <td>0</td>\n",
       "      <td>0</td>\n",
       "      <td>0</td>\n",
       "      <td>0</td>\n",
       "      <td>0</td>\n",
       "      <td>0</td>\n",
       "      <td>0</td>\n",
       "      <td>0</td>\n",
       "      <td>0</td>\n",
       "      <td>0</td>\n",
       "      <td>0</td>\n",
       "      <td>0</td>\n",
       "      <td>0</td>\n",
       "      <td>0</td>\n",
       "      <td>0</td>\n",
       "      <td>0</td>\n",
       "      <td>0</td>\n",
       "      <td>1</td>\n",
       "      <td>0</td>\n",
       "      <td>0</td>\n",
       "      <td>0</td>\n",
       "      <td>0</td>\n",
       "      <td>0</td>\n",
       "      <td>0</td>\n",
       "      <td>0</td>\n",
       "      <td>0</td>\n",
       "    </tr>\n",
       "    <tr>\n",
       "      <th>2</th>\n",
       "      <td>0</td>\n",
       "      <td>1</td>\n",
       "      <td>0</td>\n",
       "      <td>0</td>\n",
       "      <td>0</td>\n",
       "      <td>0</td>\n",
       "      <td>0</td>\n",
       "      <td>0</td>\n",
       "      <td>0</td>\n",
       "      <td>0</td>\n",
       "      <td>0</td>\n",
       "      <td>0</td>\n",
       "      <td>0</td>\n",
       "      <td>1</td>\n",
       "      <td>0</td>\n",
       "      <td>0</td>\n",
       "      <td>0</td>\n",
       "      <td>0</td>\n",
       "      <td>0</td>\n",
       "      <td>0</td>\n",
       "      <td>0</td>\n",
       "      <td>0</td>\n",
       "      <td>0</td>\n",
       "      <td>0</td>\n",
       "      <td>0</td>\n",
       "      <td>0</td>\n",
       "      <td>0</td>\n",
       "      <td>0</td>\n",
       "      <td>0</td>\n",
       "      <td>0</td>\n",
       "      <td>0</td>\n",
       "      <td>1</td>\n",
       "      <td>0</td>\n",
       "      <td>0</td>\n",
       "      <td>0</td>\n",
       "      <td>0</td>\n",
       "      <td>0</td>\n",
       "      <td>0</td>\n",
       "      <td>0</td>\n",
       "      <td>0</td>\n",
       "    </tr>\n",
       "    <tr>\n",
       "      <th>3</th>\n",
       "      <td>0</td>\n",
       "      <td>1</td>\n",
       "      <td>0</td>\n",
       "      <td>0</td>\n",
       "      <td>0</td>\n",
       "      <td>0</td>\n",
       "      <td>0</td>\n",
       "      <td>0</td>\n",
       "      <td>0</td>\n",
       "      <td>0</td>\n",
       "      <td>0</td>\n",
       "      <td>0</td>\n",
       "      <td>0</td>\n",
       "      <td>1</td>\n",
       "      <td>0</td>\n",
       "      <td>0</td>\n",
       "      <td>0</td>\n",
       "      <td>0</td>\n",
       "      <td>0</td>\n",
       "      <td>0</td>\n",
       "      <td>0</td>\n",
       "      <td>0</td>\n",
       "      <td>0</td>\n",
       "      <td>0</td>\n",
       "      <td>0</td>\n",
       "      <td>0</td>\n",
       "      <td>0</td>\n",
       "      <td>0</td>\n",
       "      <td>0</td>\n",
       "      <td>0</td>\n",
       "      <td>0</td>\n",
       "      <td>1</td>\n",
       "      <td>0</td>\n",
       "      <td>0</td>\n",
       "      <td>0</td>\n",
       "      <td>0</td>\n",
       "      <td>0</td>\n",
       "      <td>0</td>\n",
       "      <td>0</td>\n",
       "      <td>0</td>\n",
       "    </tr>\n",
       "    <tr>\n",
       "      <th>4</th>\n",
       "      <td>0</td>\n",
       "      <td>1</td>\n",
       "      <td>0</td>\n",
       "      <td>0</td>\n",
       "      <td>0</td>\n",
       "      <td>0</td>\n",
       "      <td>0</td>\n",
       "      <td>0</td>\n",
       "      <td>0</td>\n",
       "      <td>1</td>\n",
       "      <td>0</td>\n",
       "      <td>0</td>\n",
       "      <td>0</td>\n",
       "      <td>0</td>\n",
       "      <td>0</td>\n",
       "      <td>0</td>\n",
       "      <td>0</td>\n",
       "      <td>0</td>\n",
       "      <td>0</td>\n",
       "      <td>0</td>\n",
       "      <td>0</td>\n",
       "      <td>0</td>\n",
       "      <td>0</td>\n",
       "      <td>0</td>\n",
       "      <td>0</td>\n",
       "      <td>0</td>\n",
       "      <td>0</td>\n",
       "      <td>0</td>\n",
       "      <td>0</td>\n",
       "      <td>0</td>\n",
       "      <td>0</td>\n",
       "      <td>1</td>\n",
       "      <td>0</td>\n",
       "      <td>0</td>\n",
       "      <td>0</td>\n",
       "      <td>0</td>\n",
       "      <td>0</td>\n",
       "      <td>0</td>\n",
       "      <td>0</td>\n",
       "      <td>0</td>\n",
       "    </tr>\n",
       "  </tbody>\n",
       "</table>\n",
       "</div>"
      ],
      "text/plain": [
       "   wd_0  wd_1  wd_2  wd_3  wd_4  wd_5  wd_6  domain_0  domain_1  domain_2  \\\n",
       "0     0     1     0     0     0     0     0         0         0         0   \n",
       "1     0     1     0     0     0     0     0         0         0         0   \n",
       "2     0     1     0     0     0     0     0         0         0         0   \n",
       "3     0     1     0     0     0     0     0         0         0         0   \n",
       "4     0     1     0     0     0     0     0         0         0         1   \n",
       "\n",
       "   domain_3  domain_4  domain_5  domain_6  domain_7  domain_8  event_type_0  \\\n",
       "0         0         0         0         1         0         0             0   \n",
       "1         0         0         0         1         0         0             0   \n",
       "2         0         0         0         1         0         0             0   \n",
       "3         0         0         0         1         0         0             0   \n",
       "4         0         0         0         0         0         0             0   \n",
       "\n",
       "   event_type_1  event_type_2  event_type_3  event_type_4  event_type_5  \\\n",
       "0             0             0             0             0             0   \n",
       "1             0             0             0             0             0   \n",
       "2             0             0             0             0             0   \n",
       "3             0             0             0             0             0   \n",
       "4             0             0             0             0             0   \n",
       "\n",
       "   event_type_6  event_type_7  event_type_8  event_type_9  event_type_10  \\\n",
       "0             0             0             0             0              0   \n",
       "1             0             0             0             0              0   \n",
       "2             0             0             0             0              0   \n",
       "3             0             0             0             0              0   \n",
       "4             0             0             0             0              0   \n",
       "\n",
       "   event_type_11  event_type_12  event_type_13  event_type_14  event_type_15  \\\n",
       "0              0              0              0              0              1   \n",
       "1              0              0              0              0              1   \n",
       "2              0              0              0              0              1   \n",
       "3              0              0              0              0              1   \n",
       "4              0              0              0              0              1   \n",
       "\n",
       "   event_type_16  event_type_17  event_type_18  event_type_19  event_type_20  \\\n",
       "0              0              0              0              0              0   \n",
       "1              0              0              0              0              0   \n",
       "2              0              0              0              0              0   \n",
       "3              0              0              0              0              0   \n",
       "4              0              0              0              0              0   \n",
       "\n",
       "   event_type_21  hour  is_weekend  \n",
       "0              0     0           0  \n",
       "1              0     0           0  \n",
       "2              0     0           0  \n",
       "3              0     0           0  \n",
       "4              0     0           0  "
      ]
     },
     "execution_count": 20,
     "metadata": {},
     "output_type": "execute_result"
    }
   ],
   "source": [
    "data.head()"
   ]
  },
  {
   "cell_type": "markdown",
   "metadata": {
    "papermill": {
     "duration": 0.02727,
     "end_time": "2020-09-30T20:16:06.702959",
     "exception": false,
     "start_time": "2020-09-30T20:16:06.675689",
     "status": "completed"
    },
    "tags": []
   },
   "source": [
    "Подбор числа кластеров будем проводить локтевым методом"
   ]
  },
  {
   "cell_type": "code",
   "execution_count": 21,
   "metadata": {
    "execution": {
     "iopub.execute_input": "2020-09-30T20:16:06.766331Z",
     "iopub.status.busy": "2020-09-30T20:16:06.765656Z",
     "iopub.status.idle": "2020-09-30T20:23:16.516592Z",
     "shell.execute_reply": "2020-09-30T20:23:16.517149Z"
    },
    "papermill": {
     "duration": 429.787329,
     "end_time": "2020-09-30T20:23:16.517317",
     "exception": false,
     "start_time": "2020-09-30T20:16:06.729988",
     "status": "completed"
    },
    "tags": []
   },
   "outputs": [
    {
     "data": {
      "image/png": "[encoded data removed]",
      "text/plain": [
       "<Figure size 432x288 with 1 Axes>"
      ]
     },
     "metadata": {
      "needs_background": "light"
     },
     "output_type": "display_data"
    }
   ],
   "source": [
    "K = range(1, 11)\n",
    "models = [KMeans(n_clusters=k, random_state=42).fit(data) for k in K]\n",
    "dist = [model.inertia_ for model in models]\n",
    "\n",
    "\n",
    "plt.plot(K, dist, marker='o')\n",
    "plt.xlabel('k')\n",
    "plt.ylabel('Сумма дистанций')\n",
    "plt.title('Локтевой метод поиска оптимального K')\n",
    "plt.show()"
   ]
  },
  {
   "cell_type": "markdown",
   "metadata": {
    "papermill": {
     "duration": 0.02795,
     "end_time": "2020-09-30T20:23:16.572873",
     "exception": false,
     "start_time": "2020-09-30T20:23:16.544923",
     "status": "completed"
    },
    "tags": []
   },
   "source": [
    "Заметно что для данных оптимальным числом кластеров является 3"
   ]
  },
  {
   "cell_type": "code",
   "execution_count": 22,
   "metadata": {
    "execution": {
     "iopub.execute_input": "2020-09-30T20:23:16.639220Z",
     "iopub.status.busy": "2020-09-30T20:23:16.637697Z",
     "iopub.status.idle": "2020-09-30T20:23:45.946685Z",
     "shell.execute_reply": "2020-09-30T20:23:45.946118Z"
    },
    "papermill": {
     "duration": 29.345397,
     "end_time": "2020-09-30T20:23:45.946805",
     "exception": false,
     "start_time": "2020-09-30T20:23:16.601408",
     "status": "completed"
    },
    "tags": []
   },
   "outputs": [
    {
     "data": {
      "text/html": [
       "<div>\n",
       "<style scoped>\n",
       "    .dataframe tbody tr th:only-of-type {\n",
       "        vertical-align: middle;\n",
       "    }\n",
       "\n",
       "    .dataframe tbody tr th {\n",
       "        vertical-align: top;\n",
       "    }\n",
       "\n",
       "    .dataframe thead th {\n",
       "        text-align: right;\n",
       "    }\n",
       "</style>\n",
       "<table border=\"1\" class=\"dataframe\">\n",
       "  <thead>\n",
       "    <tr style=\"text-align: right;\">\n",
       "      <th></th>\n",
       "      <th>wd_0</th>\n",
       "      <th>wd_1</th>\n",
       "      <th>wd_2</th>\n",
       "      <th>wd_3</th>\n",
       "      <th>wd_4</th>\n",
       "      <th>wd_5</th>\n",
       "      <th>wd_6</th>\n",
       "      <th>domain_0</th>\n",
       "      <th>domain_1</th>\n",
       "      <th>domain_2</th>\n",
       "      <th>domain_3</th>\n",
       "      <th>domain_4</th>\n",
       "      <th>domain_5</th>\n",
       "      <th>domain_6</th>\n",
       "      <th>domain_7</th>\n",
       "      <th>domain_8</th>\n",
       "      <th>event_type_0</th>\n",
       "      <th>event_type_1</th>\n",
       "      <th>event_type_2</th>\n",
       "      <th>event_type_3</th>\n",
       "      <th>event_type_4</th>\n",
       "      <th>event_type_5</th>\n",
       "      <th>event_type_6</th>\n",
       "      <th>event_type_7</th>\n",
       "      <th>event_type_8</th>\n",
       "      <th>event_type_9</th>\n",
       "      <th>event_type_10</th>\n",
       "      <th>event_type_11</th>\n",
       "      <th>event_type_12</th>\n",
       "      <th>event_type_13</th>\n",
       "      <th>event_type_14</th>\n",
       "      <th>event_type_15</th>\n",
       "      <th>event_type_16</th>\n",
       "      <th>event_type_17</th>\n",
       "      <th>event_type_18</th>\n",
       "      <th>event_type_19</th>\n",
       "      <th>event_type_20</th>\n",
       "      <th>event_type_21</th>\n",
       "      <th>hour</th>\n",
       "      <th>is_weekend</th>\n",
       "    </tr>\n",
       "    <tr>\n",
       "      <th>cluster</th>\n",
       "      <th></th>\n",
       "      <th></th>\n",
       "      <th></th>\n",
       "      <th></th>\n",
       "      <th></th>\n",
       "      <th></th>\n",
       "      <th></th>\n",
       "      <th></th>\n",
       "      <th></th>\n",
       "      <th></th>\n",
       "      <th></th>\n",
       "      <th></th>\n",
       "      <th></th>\n",
       "      <th></th>\n",
       "      <th></th>\n",
       "      <th></th>\n",
       "      <th></th>\n",
       "      <th></th>\n",
       "      <th></th>\n",
       "      <th></th>\n",
       "      <th></th>\n",
       "      <th></th>\n",
       "      <th></th>\n",
       "      <th></th>\n",
       "      <th></th>\n",
       "      <th></th>\n",
       "      <th></th>\n",
       "      <th></th>\n",
       "      <th></th>\n",
       "      <th></th>\n",
       "      <th></th>\n",
       "      <th></th>\n",
       "      <th></th>\n",
       "      <th></th>\n",
       "      <th></th>\n",
       "      <th></th>\n",
       "      <th></th>\n",
       "      <th></th>\n",
       "      <th></th>\n",
       "      <th></th>\n",
       "    </tr>\n",
       "  </thead>\n",
       "  <tbody>\n",
       "    <tr>\n",
       "      <th>0</th>\n",
       "      <td>0.160380</td>\n",
       "      <td>0.201574</td>\n",
       "      <td>0.138898</td>\n",
       "      <td>0.137914</td>\n",
       "      <td>0.103702</td>\n",
       "      <td>0.125625</td>\n",
       "      <td>0.131906</td>\n",
       "      <td>0.274080</td>\n",
       "      <td>0.044321</td>\n",
       "      <td>0.042641</td>\n",
       "      <td>0.047844</td>\n",
       "      <td>0.033557</td>\n",
       "      <td>0.254225</td>\n",
       "      <td>0.276409</td>\n",
       "      <td>0.015196</td>\n",
       "      <td>0.011727</td>\n",
       "      <td>0.002359</td>\n",
       "      <td>0.006475</td>\n",
       "      <td>0.000019</td>\n",
       "      <td>0.010812</td>\n",
       "      <td>0.000972</td>\n",
       "      <td>0.000003</td>\n",
       "      <td>0.000006</td>\n",
       "      <td>1.836346e-05</td>\n",
       "      <td>0.009891</td>\n",
       "      <td>0.000003</td>\n",
       "      <td>0.149648</td>\n",
       "      <td>0.000191</td>\n",
       "      <td>0.076392</td>\n",
       "      <td>0.012125</td>\n",
       "      <td>0.014015</td>\n",
       "      <td>0.623079</td>\n",
       "      <td>0.000049</td>\n",
       "      <td>0.000005</td>\n",
       "      <td>0.000009</td>\n",
       "      <td>0.000005</td>\n",
       "      <td>0.093919</td>\n",
       "      <td>0.000006</td>\n",
       "      <td>17.810182</td>\n",
       "      <td>0.257531</td>\n",
       "    </tr>\n",
       "    <tr>\n",
       "      <th>1</th>\n",
       "      <td>0.152280</td>\n",
       "      <td>0.208599</td>\n",
       "      <td>0.121783</td>\n",
       "      <td>0.152609</td>\n",
       "      <td>0.150449</td>\n",
       "      <td>0.103738</td>\n",
       "      <td>0.110541</td>\n",
       "      <td>0.257153</td>\n",
       "      <td>0.030676</td>\n",
       "      <td>0.040185</td>\n",
       "      <td>0.062231</td>\n",
       "      <td>0.030006</td>\n",
       "      <td>0.276349</td>\n",
       "      <td>0.284263</td>\n",
       "      <td>0.010790</td>\n",
       "      <td>0.008347</td>\n",
       "      <td>0.001638</td>\n",
       "      <td>0.008751</td>\n",
       "      <td>0.000029</td>\n",
       "      <td>0.009969</td>\n",
       "      <td>0.001318</td>\n",
       "      <td>0.000018</td>\n",
       "      <td>0.000029</td>\n",
       "      <td>8.411568e-07</td>\n",
       "      <td>0.011582</td>\n",
       "      <td>0.000087</td>\n",
       "      <td>0.128339</td>\n",
       "      <td>0.000298</td>\n",
       "      <td>0.075285</td>\n",
       "      <td>0.009201</td>\n",
       "      <td>0.017134</td>\n",
       "      <td>0.642823</td>\n",
       "      <td>0.000054</td>\n",
       "      <td>0.000005</td>\n",
       "      <td>0.000004</td>\n",
       "      <td>0.000004</td>\n",
       "      <td>0.093426</td>\n",
       "      <td>0.000005</td>\n",
       "      <td>5.769293</td>\n",
       "      <td>0.214280</td>\n",
       "    </tr>\n",
       "    <tr>\n",
       "      <th>2</th>\n",
       "      <td>0.156919</td>\n",
       "      <td>0.205052</td>\n",
       "      <td>0.156031</td>\n",
       "      <td>0.152809</td>\n",
       "      <td>0.134121</td>\n",
       "      <td>0.099431</td>\n",
       "      <td>0.095638</td>\n",
       "      <td>0.306438</td>\n",
       "      <td>0.034905</td>\n",
       "      <td>0.039745</td>\n",
       "      <td>0.060445</td>\n",
       "      <td>0.029962</td>\n",
       "      <td>0.316168</td>\n",
       "      <td>0.190015</td>\n",
       "      <td>0.011343</td>\n",
       "      <td>0.010979</td>\n",
       "      <td>0.002317</td>\n",
       "      <td>0.012047</td>\n",
       "      <td>0.000049</td>\n",
       "      <td>0.011208</td>\n",
       "      <td>0.001559</td>\n",
       "      <td>0.000029</td>\n",
       "      <td>0.000034</td>\n",
       "      <td>1.069260e-05</td>\n",
       "      <td>0.014468</td>\n",
       "      <td>0.000016</td>\n",
       "      <td>0.154662</td>\n",
       "      <td>0.000394</td>\n",
       "      <td>0.088854</td>\n",
       "      <td>0.010718</td>\n",
       "      <td>0.021534</td>\n",
       "      <td>0.592108</td>\n",
       "      <td>0.000080</td>\n",
       "      <td>0.000010</td>\n",
       "      <td>0.000007</td>\n",
       "      <td>0.000004</td>\n",
       "      <td>0.089879</td>\n",
       "      <td>0.000012</td>\n",
       "      <td>11.404131</td>\n",
       "      <td>0.195069</td>\n",
       "    </tr>\n",
       "  </tbody>\n",
       "</table>\n",
       "</div>"
      ],
      "text/plain": [
       "             wd_0      wd_1      wd_2      wd_3      wd_4      wd_5      wd_6  \\\n",
       "cluster                                                                         \n",
       "0        0.160380  0.201574  0.138898  0.137914  0.103702  0.125625  0.131906   \n",
       "1        0.152280  0.208599  0.121783  0.152609  0.150449  0.103738  0.110541   \n",
       "2        0.156919  0.205052  0.156031  0.152809  0.134121  0.099431  0.095638   \n",
       "\n",
       "         domain_0  domain_1  domain_2  domain_3  domain_4  domain_5  domain_6  \\\n",
       "cluster                                                                         \n",
       "0        0.274080  0.044321  0.042641  0.047844  0.033557  0.254225  0.276409   \n",
       "1        0.257153  0.030676  0.040185  0.062231  0.030006  0.276349  0.284263   \n",
       "2        0.306438  0.034905  0.039745  0.060445  0.029962  0.316168  0.190015   \n",
       "\n",
       "         domain_7  domain_8  event_type_0  event_type_1  event_type_2  \\\n",
       "cluster                                                                 \n",
       "0        0.015196  0.011727      0.002359      0.006475      0.000019   \n",
       "1        0.010790  0.008347      0.001638      0.008751      0.000029   \n",
       "2        0.011343  0.010979      0.002317      0.012047      0.000049   \n",
       "\n",
       "         event_type_3  event_type_4  event_type_5  event_type_6  event_type_7  \\\n",
       "cluster                                                                         \n",
       "0            0.010812      0.000972      0.000003      0.000006  1.836346e-05   \n",
       "1            0.009969      0.001318      0.000018      0.000029  8.411568e-07   \n",
       "2            0.011208      0.001559      0.000029      0.000034  1.069260e-05   \n",
       "\n",
       "         event_type_8  event_type_9  event_type_10  event_type_11  \\\n",
       "cluster                                                             \n",
       "0            0.009891      0.000003       0.149648       0.000191   \n",
       "1            0.011582      0.000087       0.128339       0.000298   \n",
       "2            0.014468      0.000016       0.154662       0.000394   \n",
       "\n",
       "         event_type_12  event_type_13  event_type_14  event_type_15  \\\n",
       "cluster                                                               \n",
       "0             0.076392       0.012125       0.014015       0.623079   \n",
       "1             0.075285       0.009201       0.017134       0.642823   \n",
       "2             0.088854       0.010718       0.021534       0.592108   \n",
       "\n",
       "         event_type_16  event_type_17  event_type_18  event_type_19  \\\n",
       "cluster                                                               \n",
       "0             0.000049       0.000005       0.000009       0.000005   \n",
       "1             0.000054       0.000005       0.000004       0.000004   \n",
       "2             0.000080       0.000010       0.000007       0.000004   \n",
       "\n",
       "         event_type_20  event_type_21       hour  is_weekend  \n",
       "cluster                                                       \n",
       "0             0.093919       0.000006  17.810182    0.257531  \n",
       "1             0.093426       0.000005   5.769293    0.214280  \n",
       "2             0.089879       0.000012  11.404131    0.195069  "
      ]
     },
     "execution_count": 22,
     "metadata": {},
     "output_type": "execute_result"
    }
   ],
   "source": [
    "model = KMeans(n_clusters=3, random_state=42)\n",
    "model.fit(data)\n",
    "data['cluster'] = model.labels_\n",
    "data.groupby('cluster').mean()\n"
   ]
  },
  {
   "cell_type": "code",
   "execution_count": 23,
   "metadata": {
    "execution": {
     "iopub.execute_input": "2020-09-30T20:23:46.011165Z",
     "iopub.status.busy": "2020-09-30T20:23:46.010426Z",
     "iopub.status.idle": "2020-09-30T20:23:46.112082Z",
     "shell.execute_reply": "2020-09-30T20:23:46.111313Z"
    },
    "papermill": {
     "duration": 0.136195,
     "end_time": "2020-09-30T20:23:46.112205",
     "exception": false,
     "start_time": "2020-09-30T20:23:45.976010",
     "status": "completed"
    },
    "tags": []
   },
   "outputs": [
    {
     "data": {
      "text/plain": [
       "cluster\n",
       "0    1252487\n",
       "1    1188839\n",
       "2    1683408\n",
       "dtype: int64"
      ]
     },
     "execution_count": 23,
     "metadata": {},
     "output_type": "execute_result"
    }
   ],
   "source": [
    "data.groupby('cluster').size()"
   ]
  }
 ],
 "metadata": {
  "kernelspec": {
   "display_name": "Python 3",
   "language": "python",
   "name": "python3"
  },
  "language_info": {
   "codemirror_mode": {
    "name": "ipython",
    "version": 3
   },
   "file_extension": ".py",
   "mimetype": "text/x-python",
   "name": "python",
   "nbconvert_exporter": "python",
   "pygments_lexer": "ipython3",
   "version": "3.7.6"
  },
  "papermill": {
   "duration": 517.801681,
   "end_time": "2020-09-30T20:23:46.249357",
   "environment_variables": {},
   "exception": null,
   "input_path": "__notebook__.ipynb",
   "output_path": "__notebook__.ipynb",
   "parameters": {},
   "start_time": "2020-09-30T20:15:08.447676",
   "version": "2.1.0"
  }
 },
 "nbformat": 4,
 "nbformat_minor": 4
}
