{
 "cells": [
  {
   "cell_type": "markdown",
   "metadata": {
    "papermill": {
     "duration": 0.009617,
     "end_time": "2020-09-12T19:43:03.958825",
     "exception": false,
     "start_time": "2020-09-12T19:43:03.949208",
     "status": "completed"
    },
    "tags": []
   },
   "source": [
    "**<h2 style='color:red'>Титаник: мой проект с использованием EDA и разных методов машинного обучения</h2>**\n",
    "*  1- Подготовка данных \n",
    "*  2- Визуализация данных \n",
    "*  3- Подготовка данных для машинного обучения\n",
    "*  4- Поиск лучшего классификатора\n",
    "<hr>"
   ]
  },
  {
   "cell_type": "markdown",
   "metadata": {
    "papermill": {
     "duration": 0.008126,
     "end_time": "2020-09-12T19:43:03.975636",
     "exception": false,
     "start_time": "2020-09-12T19:43:03.967510",
     "status": "completed"
    },
    "tags": []
   },
   "source": [
    "# Подготовка данных"
   ]
  },
  {
   "cell_type": "code",
   "execution_count": 1,
   "metadata": {
    "_cell_guid": "b1076dfc-b9ad-4769-8c92-a6c4dae69d19",
    "_uuid": "8f2839f25d086af736a60e9eeb907d3b93b6e0e5",
    "execution": {
     "iopub.execute_input": "2020-09-12T19:43:03.995521Z",
     "iopub.status.busy": "2020-09-12T19:43:03.994626Z",
     "iopub.status.idle": "2020-09-12T19:43:04.935943Z",
     "shell.execute_reply": "2020-09-12T19:43:04.936417Z"
    },
    "papermill": {
     "duration": 0.952735,
     "end_time": "2020-09-12T19:43:04.936595",
     "exception": false,
     "start_time": "2020-09-12T19:43:03.983860",
     "status": "completed"
    },
    "tags": []
   },
   "outputs": [],
   "source": [
    "import warnings\n",
    "warnings.simplefilter(\"ignore\")\n",
    "\n",
    "#Импортируем библиотеки для анализа\n",
    "import pandas as pd\n",
    "import numpy as np\n",
    "\n",
    "#Импортируем библиотеки для визуализации\n",
    "import matplotlib.pyplot as plt\n",
    "import seaborn as sns"
   ]
  },
  {
   "cell_type": "code",
   "execution_count": 2,
   "metadata": {
    "_cell_guid": "79c7e3d0-c299-4dcb-8224-4455121ee9b0",
    "_uuid": "d629ff2d2480ee46fbb7e2d37f6b5fab8052498a",
    "execution": {
     "iopub.execute_input": "2020-09-12T19:43:04.957312Z",
     "iopub.status.busy": "2020-09-12T19:43:04.956407Z",
     "iopub.status.idle": "2020-09-12T19:43:05.003548Z",
     "shell.execute_reply": "2020-09-12T19:43:05.003928Z"
    },
    "papermill": {
     "duration": 0.058761,
     "end_time": "2020-09-12T19:43:05.004062",
     "exception": false,
     "start_time": "2020-09-12T19:43:04.945301",
     "status": "completed"
    },
    "tags": []
   },
   "outputs": [
    {
     "data": {
      "text/html": [
       "<div>\n",
       "<style scoped>\n",
       "    .dataframe tbody tr th:only-of-type {\n",
       "        vertical-align: middle;\n",
       "    }\n",
       "\n",
       "    .dataframe tbody tr th {\n",
       "        vertical-align: top;\n",
       "    }\n",
       "\n",
       "    .dataframe thead th {\n",
       "        text-align: right;\n",
       "    }\n",
       "</style>\n",
       "<table border=\"1\" class=\"dataframe\">\n",
       "  <thead>\n",
       "    <tr style=\"text-align: right;\">\n",
       "      <th></th>\n",
       "      <th>PassengerId</th>\n",
       "      <th>Survived</th>\n",
       "      <th>Pclass</th>\n",
       "      <th>Name</th>\n",
       "      <th>Sex</th>\n",
       "      <th>Age</th>\n",
       "      <th>SibSp</th>\n",
       "      <th>Parch</th>\n",
       "      <th>Ticket</th>\n",
       "      <th>Fare</th>\n",
       "      <th>Cabin</th>\n",
       "      <th>Embarked</th>\n",
       "    </tr>\n",
       "  </thead>\n",
       "  <tbody>\n",
       "    <tr>\n",
       "      <th>0</th>\n",
       "      <td>1</td>\n",
       "      <td>0</td>\n",
       "      <td>3</td>\n",
       "      <td>Braund, Mr. Owen Harris</td>\n",
       "      <td>male</td>\n",
       "      <td>22.0</td>\n",
       "      <td>1</td>\n",
       "      <td>0</td>\n",
       "      <td>A/5 21171</td>\n",
       "      <td>7.2500</td>\n",
       "      <td>NaN</td>\n",
       "      <td>S</td>\n",
       "    </tr>\n",
       "    <tr>\n",
       "      <th>1</th>\n",
       "      <td>2</td>\n",
       "      <td>1</td>\n",
       "      <td>1</td>\n",
       "      <td>Cumings, Mrs. John Bradley (Florence Briggs Th...</td>\n",
       "      <td>female</td>\n",
       "      <td>38.0</td>\n",
       "      <td>1</td>\n",
       "      <td>0</td>\n",
       "      <td>PC 17599</td>\n",
       "      <td>71.2833</td>\n",
       "      <td>C85</td>\n",
       "      <td>C</td>\n",
       "    </tr>\n",
       "    <tr>\n",
       "      <th>2</th>\n",
       "      <td>3</td>\n",
       "      <td>1</td>\n",
       "      <td>3</td>\n",
       "      <td>Heikkinen, Miss. Laina</td>\n",
       "      <td>female</td>\n",
       "      <td>26.0</td>\n",
       "      <td>0</td>\n",
       "      <td>0</td>\n",
       "      <td>STON/O2. 3101282</td>\n",
       "      <td>7.9250</td>\n",
       "      <td>NaN</td>\n",
       "      <td>S</td>\n",
       "    </tr>\n",
       "    <tr>\n",
       "      <th>3</th>\n",
       "      <td>4</td>\n",
       "      <td>1</td>\n",
       "      <td>1</td>\n",
       "      <td>Futrelle, Mrs. Jacques Heath (Lily May Peel)</td>\n",
       "      <td>female</td>\n",
       "      <td>35.0</td>\n",
       "      <td>1</td>\n",
       "      <td>0</td>\n",
       "      <td>113803</td>\n",
       "      <td>53.1000</td>\n",
       "      <td>C123</td>\n",
       "      <td>S</td>\n",
       "    </tr>\n",
       "    <tr>\n",
       "      <th>4</th>\n",
       "      <td>5</td>\n",
       "      <td>0</td>\n",
       "      <td>3</td>\n",
       "      <td>Allen, Mr. William Henry</td>\n",
       "      <td>male</td>\n",
       "      <td>35.0</td>\n",
       "      <td>0</td>\n",
       "      <td>0</td>\n",
       "      <td>373450</td>\n",
       "      <td>8.0500</td>\n",
       "      <td>NaN</td>\n",
       "      <td>S</td>\n",
       "    </tr>\n",
       "  </tbody>\n",
       "</table>\n",
       "</div>"
      ],
      "text/plain": [
       "   PassengerId  Survived  Pclass  \\\n",
       "0            1         0       3   \n",
       "1            2         1       1   \n",
       "2            3         1       3   \n",
       "3            4         1       1   \n",
       "4            5         0       3   \n",
       "\n",
       "                                                Name     Sex   Age  SibSp  \\\n",
       "0                            Braund, Mr. Owen Harris    male  22.0      1   \n",
       "1  Cumings, Mrs. John Bradley (Florence Briggs Th...  female  38.0      1   \n",
       "2                             Heikkinen, Miss. Laina  female  26.0      0   \n",
       "3       Futrelle, Mrs. Jacques Heath (Lily May Peel)  female  35.0      1   \n",
       "4                           Allen, Mr. William Henry    male  35.0      0   \n",
       "\n",
       "   Parch            Ticket     Fare Cabin Embarked  \n",
       "0      0         A/5 21171   7.2500   NaN        S  \n",
       "1      0          PC 17599  71.2833   C85        C  \n",
       "2      0  STON/O2. 3101282   7.9250   NaN        S  \n",
       "3      0            113803  53.1000  C123        S  \n",
       "4      0            373450   8.0500   NaN        S  "
      ]
     },
     "execution_count": 2,
     "metadata": {},
     "output_type": "execute_result"
    }
   ],
   "source": [
    "#Подгрузим данные\n",
    "train_df = pd.read_csv('../input/titanic/train.csv')\n",
    "test_df = pd.read_csv('../input/titanic/test.csv')\n",
    "sub = pd.read_csv('../input/titanic/gender_submission.csv')\n",
    "\n",
    "train_df.head()"
   ]
  },
  {
   "cell_type": "code",
   "execution_count": 3,
   "metadata": {
    "execution": {
     "iopub.execute_input": "2020-09-12T19:43:05.025616Z",
     "iopub.status.busy": "2020-09-12T19:43:05.024747Z",
     "iopub.status.idle": "2020-09-12T19:43:05.031697Z",
     "shell.execute_reply": "2020-09-12T19:43:05.032098Z"
    },
    "papermill": {
     "duration": 0.018964,
     "end_time": "2020-09-12T19:43:05.032240",
     "exception": false,
     "start_time": "2020-09-12T19:43:05.013276",
     "status": "completed"
    },
    "tags": []
   },
   "outputs": [
    {
     "data": {
      "text/plain": [
       "PassengerId      0\n",
       "Survived         0\n",
       "Pclass           0\n",
       "Name             0\n",
       "Sex              0\n",
       "Age            177\n",
       "SibSp            0\n",
       "Parch            0\n",
       "Ticket           0\n",
       "Fare             0\n",
       "Cabin          687\n",
       "Embarked         2\n",
       "dtype: int64"
      ]
     },
     "execution_count": 3,
     "metadata": {},
     "output_type": "execute_result"
    }
   ],
   "source": [
    "# Проверим данные на пропущенные значения\n",
    "train_df.isnull().sum()"
   ]
  },
  {
   "cell_type": "code",
   "execution_count": 4,
   "metadata": {
    "execution": {
     "iopub.execute_input": "2020-09-12T19:43:05.054768Z",
     "iopub.status.busy": "2020-09-12T19:43:05.053893Z",
     "iopub.status.idle": "2020-09-12T19:43:05.063621Z",
     "shell.execute_reply": "2020-09-12T19:43:05.063999Z"
    },
    "papermill": {
     "duration": 0.022553,
     "end_time": "2020-09-12T19:43:05.064126",
     "exception": false,
     "start_time": "2020-09-12T19:43:05.041573",
     "status": "completed"
    },
    "tags": []
   },
   "outputs": [],
   "source": [
    "#Cоздадим новые переменные\n",
    "\n",
    "train_df['Name_length'] = train_df['Name'].apply(len)\n",
    "test_df['Name_length'] = test_df['Name'].apply(len)\n",
    "train_df['Has_Cabin'] = train_df[\"Cabin\"].apply(lambda x: 0 if type(x) == float else 1)\n",
    "test_df['Has_Cabin'] = test_df[\"Cabin\"].apply(lambda x: 0 if type(x) == float else 1)"
   ]
  },
  {
   "cell_type": "code",
   "execution_count": 5,
   "metadata": {
    "execution": {
     "iopub.execute_input": "2020-09-12T19:43:05.088011Z",
     "iopub.status.busy": "2020-09-12T19:43:05.087116Z",
     "iopub.status.idle": "2020-09-12T19:43:05.349515Z",
     "shell.execute_reply": "2020-09-12T19:43:05.349931Z"
    },
    "papermill": {
     "duration": 0.276506,
     "end_time": "2020-09-12T19:43:05.350070",
     "exception": false,
     "start_time": "2020-09-12T19:43:05.073564",
     "status": "completed"
    },
    "tags": []
   },
   "outputs": [],
   "source": [
    "#Почистим данные от NA и выбросим лишние столбцы\n",
    "from sklearn.impute import SimpleImputer\n",
    "\n",
    "imputer = SimpleImputer(np.nan, \"mean\")\n",
    "\n",
    "train_df['Age'] = imputer.fit_transform(np.array(train_df['Age']).reshape(891, 1)) \n",
    "train_df.Embarked.fillna(method='ffill', inplace=True) \n",
    "train_df.drop(['PassengerId', 'Name', 'Cabin'], axis=1, inplace=True) \n",
    "\n",
    "test_df['Age'] = imputer.fit_transform(np.array(test_df['Age']).reshape(418, 1))\n",
    "test_df.Embarked.fillna(method='ffill', inplace=True)\n",
    "test_df.Fare.fillna(method='ffill', inplace=True)\n",
    "test_df.drop(['PassengerId', 'Name', 'Cabin'], axis=1, inplace=True)"
   ]
  },
  {
   "cell_type": "markdown",
   "metadata": {
    "papermill": {
     "duration": 0.009318,
     "end_time": "2020-09-12T19:43:05.369049",
     "exception": false,
     "start_time": "2020-09-12T19:43:05.359731",
     "status": "completed"
    },
    "tags": []
   },
   "source": [
    "# Визуализация данных"
   ]
  },
  {
   "cell_type": "code",
   "execution_count": 6,
   "metadata": {
    "execution": {
     "iopub.execute_input": "2020-09-12T19:43:05.391687Z",
     "iopub.status.busy": "2020-09-12T19:43:05.390788Z",
     "iopub.status.idle": "2020-09-12T19:43:05.604165Z",
     "shell.execute_reply": "2020-09-12T19:43:05.603563Z"
    },
    "papermill": {
     "duration": 0.22565,
     "end_time": "2020-09-12T19:43:05.604271",
     "exception": false,
     "start_time": "2020-09-12T19:43:05.378621",
     "status": "completed"
    },
    "tags": []
   },
   "outputs": [
    {
     "data": {
      "text/plain": [
       "<matplotlib.axes._subplots.AxesSubplot at 0x7f999b8ef3d0>"
      ]
     },
     "execution_count": 6,
     "metadata": {},
     "output_type": "execute_result"
    },
    {
     "data": {
      "image/png": "[encoded data removed]",
      "text/plain": [
       "<Figure size 432x288 with 1 Axes>"
      ]
     },
     "metadata": {
      "needs_background": "light"
     },
     "output_type": "display_data"
    }
   ],
   "source": [
    "sns.distplot(train_df[\"Age\"], kde = False )"
   ]
  },
  {
   "cell_type": "code",
   "execution_count": 7,
   "metadata": {
    "execution": {
     "iopub.execute_input": "2020-09-12T19:43:05.635159Z",
     "iopub.status.busy": "2020-09-12T19:43:05.632113Z",
     "iopub.status.idle": "2020-09-12T19:43:05.774313Z",
     "shell.execute_reply": "2020-09-12T19:43:05.773753Z"
    },
    "papermill": {
     "duration": 0.159927,
     "end_time": "2020-09-12T19:43:05.774416",
     "exception": false,
     "start_time": "2020-09-12T19:43:05.614489",
     "status": "completed"
    },
    "tags": []
   },
   "outputs": [
    {
     "data": {
      "text/plain": [
       "<matplotlib.axes._subplots.AxesSubplot at 0x7f999792b390>"
      ]
     },
     "execution_count": 7,
     "metadata": {},
     "output_type": "execute_result"
    },
    {
     "data": {
      "image/png": "[encoded data removed]",
      "text/plain": [
       "<Figure size 432x288 with 1 Axes>"
      ]
     },
     "metadata": {
      "needs_background": "light"
     },
     "output_type": "display_data"
    }
   ],
   "source": [
    "sns.countplot(x='Embarked', hue='Survived', data=train_df)"
   ]
  },
  {
   "cell_type": "code",
   "execution_count": 8,
   "metadata": {
    "execution": {
     "iopub.execute_input": "2020-09-12T19:43:05.811646Z",
     "iopub.status.busy": "2020-09-12T19:43:05.803455Z",
     "iopub.status.idle": "2020-09-12T19:43:05.913600Z",
     "shell.execute_reply": "2020-09-12T19:43:05.912959Z"
    },
    "papermill": {
     "duration": 0.127956,
     "end_time": "2020-09-12T19:43:05.913707",
     "exception": false,
     "start_time": "2020-09-12T19:43:05.785751",
     "status": "completed"
    },
    "tags": []
   },
   "outputs": [
    {
     "data": {
      "text/plain": [
       "<matplotlib.axes._subplots.AxesSubplot at 0x7f999586a590>"
      ]
     },
     "execution_count": 8,
     "metadata": {},
     "output_type": "execute_result"
    },
    {
     "data": {
      "image/png": "[encoded data removed]",
      "text/plain": [
       "<Figure size 432x288 with 1 Axes>"
      ]
     },
     "metadata": {
      "needs_background": "light"
     },
     "output_type": "display_data"
    }
   ],
   "source": [
    "sns.countplot(x='Survived', hue='Sex', data=train_df)"
   ]
  },
  {
   "cell_type": "code",
   "execution_count": 9,
   "metadata": {
    "execution": {
     "iopub.execute_input": "2020-09-12T19:43:05.940390Z",
     "iopub.status.busy": "2020-09-12T19:43:05.939855Z",
     "iopub.status.idle": "2020-09-12T19:43:06.167448Z",
     "shell.execute_reply": "2020-09-12T19:43:06.167884Z"
    },
    "papermill": {
     "duration": 0.242285,
     "end_time": "2020-09-12T19:43:06.168014",
     "exception": false,
     "start_time": "2020-09-12T19:43:05.925729",
     "status": "completed"
    },
    "tags": []
   },
   "outputs": [
    {
     "data": {
      "text/plain": [
       "<matplotlib.axes._subplots.AxesSubplot at 0x7f99957cf290>"
      ]
     },
     "execution_count": 9,
     "metadata": {},
     "output_type": "execute_result"
    },
    {
     "data": {
      "image/png": "[encoded data removed]",
      "text/plain": [
       "<Figure size 432x288 with 1 Axes>"
      ]
     },
     "metadata": {
      "needs_background": "light"
     },
     "output_type": "display_data"
    }
   ],
   "source": [
    "sns.countplot(x='SibSp', hue='Survived', data=train_df)"
   ]
  },
  {
   "cell_type": "code",
   "execution_count": 10,
   "metadata": {
    "execution": {
     "iopub.execute_input": "2020-09-12T19:43:06.197968Z",
     "iopub.status.busy": "2020-09-12T19:43:06.197419Z",
     "iopub.status.idle": "2020-09-12T19:43:06.320645Z",
     "shell.execute_reply": "2020-09-12T19:43:06.321703Z"
    },
    "papermill": {
     "duration": 0.140615,
     "end_time": "2020-09-12T19:43:06.322080",
     "exception": false,
     "start_time": "2020-09-12T19:43:06.181465",
     "status": "completed"
    },
    "tags": []
   },
   "outputs": [
    {
     "data": {
      "text/plain": [
       "<matplotlib.axes._subplots.AxesSubplot at 0x7f999576e810>"
      ]
     },
     "execution_count": 10,
     "metadata": {},
     "output_type": "execute_result"
    },
    {
     "data": {
      "image/png": "[encoded data removed]",
      "text/plain": [
       "<Figure size 432x288 with 1 Axes>"
      ]
     },
     "metadata": {
      "needs_background": "light"
     },
     "output_type": "display_data"
    }
   ],
   "source": [
    "sns.countplot(x='Pclass', hue='Survived', data=train_df)"
   ]
  },
  {
   "cell_type": "markdown",
   "metadata": {
    "papermill": {
     "duration": 0.014107,
     "end_time": "2020-09-12T19:43:06.351373",
     "exception": false,
     "start_time": "2020-09-12T19:43:06.337266",
     "status": "completed"
    },
    "tags": []
   },
   "source": [
    "# Подготовка данных для машинного обучения"
   ]
  },
  {
   "cell_type": "code",
   "execution_count": 11,
   "metadata": {
    "execution": {
     "iopub.execute_input": "2020-09-12T19:43:06.387123Z",
     "iopub.status.busy": "2020-09-12T19:43:06.386502Z",
     "iopub.status.idle": "2020-09-12T19:43:06.405463Z",
     "shell.execute_reply": "2020-09-12T19:43:06.404812Z"
    },
    "papermill": {
     "duration": 0.040129,
     "end_time": "2020-09-12T19:43:06.405568",
     "exception": false,
     "start_time": "2020-09-12T19:43:06.365439",
     "status": "completed"
    },
    "tags": []
   },
   "outputs": [
    {
     "data": {
      "text/html": [
       "<div>\n",
       "<style scoped>\n",
       "    .dataframe tbody tr th:only-of-type {\n",
       "        vertical-align: middle;\n",
       "    }\n",
       "\n",
       "    .dataframe tbody tr th {\n",
       "        vertical-align: top;\n",
       "    }\n",
       "\n",
       "    .dataframe thead th {\n",
       "        text-align: right;\n",
       "    }\n",
       "</style>\n",
       "<table border=\"1\" class=\"dataframe\">\n",
       "  <thead>\n",
       "    <tr style=\"text-align: right;\">\n",
       "      <th></th>\n",
       "      <th>Survived</th>\n",
       "      <th>Pclass</th>\n",
       "      <th>Sex</th>\n",
       "      <th>Age</th>\n",
       "      <th>SibSp</th>\n",
       "      <th>Parch</th>\n",
       "      <th>Ticket</th>\n",
       "      <th>Fare</th>\n",
       "      <th>Embarked</th>\n",
       "      <th>Name_length</th>\n",
       "      <th>Has_Cabin</th>\n",
       "    </tr>\n",
       "  </thead>\n",
       "  <tbody>\n",
       "    <tr>\n",
       "      <th>0</th>\n",
       "      <td>0</td>\n",
       "      <td>3</td>\n",
       "      <td>1</td>\n",
       "      <td>22.0</td>\n",
       "      <td>1</td>\n",
       "      <td>0</td>\n",
       "      <td>523</td>\n",
       "      <td>7.2500</td>\n",
       "      <td>2</td>\n",
       "      <td>23</td>\n",
       "      <td>0</td>\n",
       "    </tr>\n",
       "    <tr>\n",
       "      <th>1</th>\n",
       "      <td>1</td>\n",
       "      <td>1</td>\n",
       "      <td>0</td>\n",
       "      <td>38.0</td>\n",
       "      <td>1</td>\n",
       "      <td>0</td>\n",
       "      <td>596</td>\n",
       "      <td>71.2833</td>\n",
       "      <td>0</td>\n",
       "      <td>51</td>\n",
       "      <td>1</td>\n",
       "    </tr>\n",
       "    <tr>\n",
       "      <th>2</th>\n",
       "      <td>1</td>\n",
       "      <td>3</td>\n",
       "      <td>0</td>\n",
       "      <td>26.0</td>\n",
       "      <td>0</td>\n",
       "      <td>0</td>\n",
       "      <td>669</td>\n",
       "      <td>7.9250</td>\n",
       "      <td>2</td>\n",
       "      <td>22</td>\n",
       "      <td>0</td>\n",
       "    </tr>\n",
       "    <tr>\n",
       "      <th>3</th>\n",
       "      <td>1</td>\n",
       "      <td>1</td>\n",
       "      <td>0</td>\n",
       "      <td>35.0</td>\n",
       "      <td>1</td>\n",
       "      <td>0</td>\n",
       "      <td>49</td>\n",
       "      <td>53.1000</td>\n",
       "      <td>2</td>\n",
       "      <td>44</td>\n",
       "      <td>1</td>\n",
       "    </tr>\n",
       "    <tr>\n",
       "      <th>4</th>\n",
       "      <td>0</td>\n",
       "      <td>3</td>\n",
       "      <td>1</td>\n",
       "      <td>35.0</td>\n",
       "      <td>0</td>\n",
       "      <td>0</td>\n",
       "      <td>472</td>\n",
       "      <td>8.0500</td>\n",
       "      <td>2</td>\n",
       "      <td>24</td>\n",
       "      <td>0</td>\n",
       "    </tr>\n",
       "  </tbody>\n",
       "</table>\n",
       "</div>"
      ],
      "text/plain": [
       "   Survived  Pclass  Sex   Age  SibSp  Parch  Ticket     Fare  Embarked  \\\n",
       "0         0       3    1  22.0      1      0     523   7.2500         2   \n",
       "1         1       1    0  38.0      1      0     596  71.2833         0   \n",
       "2         1       3    0  26.0      0      0     669   7.9250         2   \n",
       "3         1       1    0  35.0      1      0      49  53.1000         2   \n",
       "4         0       3    1  35.0      0      0     472   8.0500         2   \n",
       "\n",
       "   Name_length  Has_Cabin  \n",
       "0           23          0  \n",
       "1           51          1  \n",
       "2           22          0  \n",
       "3           44          1  \n",
       "4           24          0  "
      ]
     },
     "execution_count": 11,
     "metadata": {},
     "output_type": "execute_result"
    }
   ],
   "source": [
    "# Перекодируем категориальные данные \n",
    "\n",
    "objects_cols = train_df.select_dtypes(\"object\").columns\n",
    "\n",
    "from sklearn.preprocessing import LabelEncoder\n",
    "\n",
    "le = LabelEncoder()\n",
    "train_df[objects_cols] = train_df[objects_cols].apply(le.fit_transform)\n",
    "test_df[objects_cols] = test_df[objects_cols].apply(le.fit_transform)\n",
    "\n",
    "train_df.head()\n",
    "\n"
   ]
  },
  {
   "cell_type": "code",
   "execution_count": 12,
   "metadata": {
    "execution": {
     "iopub.execute_input": "2020-09-12T19:43:06.441019Z",
     "iopub.status.busy": "2020-09-12T19:43:06.440434Z",
     "iopub.status.idle": "2020-09-12T19:43:06.449100Z",
     "shell.execute_reply": "2020-09-12T19:43:06.449524Z"
    },
    "papermill": {
     "duration": 0.029913,
     "end_time": "2020-09-12T19:43:06.449662",
     "exception": false,
     "start_time": "2020-09-12T19:43:06.419749",
     "status": "completed"
    },
    "tags": []
   },
   "outputs": [],
   "source": [
    "#Разобьем данные и промасштабируем данные\n",
    "from sklearn.preprocessing import StandardScaler\n",
    "from sklearn.model_selection import train_test_split\n",
    "X = train_df.drop(['Survived'], 1).values\n",
    "y = train_df['Survived'].values\n",
    "\n",
    "scale = StandardScaler()\n",
    "scale.fit(X)\n",
    "X = scale.transform(X)\n",
    "\n",
    "scale.fit(test_df)\n",
    "test_df = scale.transform(test_df)\n",
    "\n",
    "\n",
    "X_train, X_test, y_train, y_test = train_test_split(X, y, test_size=0.1, random_state=0)"
   ]
  },
  {
   "cell_type": "markdown",
   "metadata": {
    "papermill": {
     "duration": 0.014315,
     "end_time": "2020-09-12T19:43:06.478272",
     "exception": false,
     "start_time": "2020-09-12T19:43:06.463957",
     "status": "completed"
    },
    "tags": []
   },
   "source": [
    "# Найдем лучший классификатор "
   ]
  },
  {
   "cell_type": "code",
   "execution_count": 13,
   "metadata": {
    "execution": {
     "iopub.execute_input": "2020-09-12T19:43:06.509929Z",
     "iopub.status.busy": "2020-09-12T19:43:06.509370Z",
     "iopub.status.idle": "2020-09-12T19:43:12.988751Z",
     "shell.execute_reply": "2020-09-12T19:43:12.989397Z"
    },
    "papermill": {
     "duration": 6.496989,
     "end_time": "2020-09-12T19:43:12.989567",
     "exception": false,
     "start_time": "2020-09-12T19:43:06.492578",
     "status": "completed"
    },
    "tags": []
   },
   "outputs": [],
   "source": [
    "# Переберем разные классификаторы и создадим из результатов словарь\n",
    "from sklearn.metrics import accuracy_score, log_loss\n",
    "from sklearn.neighbors import KNeighborsClassifier\n",
    "from sklearn.svm import SVC\n",
    "from sklearn.tree import DecisionTreeClassifier\n",
    "from sklearn.ensemble import RandomForestClassifier, AdaBoostClassifier, GradientBoostingClassifier\n",
    "from sklearn.naive_bayes import GaussianNB\n",
    "from sklearn.discriminant_analysis import LinearDiscriminantAnalysis, QuadraticDiscriminantAnalysis\n",
    "from sklearn.linear_model import LogisticRegression\n",
    "import xgboost as xgb\n",
    "from sklearn.model_selection import cross_val_score\n",
    "\n",
    "cols = [\"Classifier\", \"Accuracy\"]\n",
    "df = pd.DataFrame(columns=cols)\n",
    "\n",
    "dicti = {}\n",
    "\n",
    "classifiers = [\n",
    "    KNeighborsClassifier(3),\n",
    "    SVC(probability=True),\n",
    "    DecisionTreeClassifier(),\n",
    "    RandomForestClassifier(),\n",
    "    AdaBoostClassifier(),\n",
    "    GradientBoostingClassifier(),\n",
    "    GaussianNB(),\n",
    "    LinearDiscriminantAnalysis(),\n",
    "    QuadraticDiscriminantAnalysis(),\n",
    "    LogisticRegression()]\n",
    "\n",
    "for clf in classifiers:\n",
    "    cv_results = cross_val_score(clf, X_train, y_train, scoring=\"roc_auc\", cv=10)\n",
    "    res = np.mean(cv_results)\n",
    "    name =clf.__class__.__name__\n",
    "    dicti[name] = res\n",
    "                  \n",
    "xg_cl = xgb.XGBClassifier(objective='binary:logistic', seed=0)\n",
    "cv_results = cross_val_score(xg_cl, X_train, y_train, scoring=\"roc_auc\", cv=10)\n",
    "dicti['XGBClassifier'] = np.mean(cv_results)"
   ]
  },
  {
   "cell_type": "code",
   "execution_count": 14,
   "metadata": {
    "execution": {
     "iopub.execute_input": "2020-09-12T19:43:13.044734Z",
     "iopub.status.busy": "2020-09-12T19:43:13.043787Z",
     "iopub.status.idle": "2020-09-12T19:43:13.243109Z",
     "shell.execute_reply": "2020-09-12T19:43:13.243598Z"
    },
    "papermill": {
     "duration": 0.232503,
     "end_time": "2020-09-12T19:43:13.243724",
     "exception": false,
     "start_time": "2020-09-12T19:43:13.011221",
     "status": "completed"
    },
    "tags": []
   },
   "outputs": [
    {
     "data": {
      "text/plain": [
       "<matplotlib.axes._subplots.AxesSubplot at 0x7f9994034a10>"
      ]
     },
     "execution_count": 14,
     "metadata": {},
     "output_type": "execute_result"
    },
    {
     "data": {
      "image/png": "[encoded data removed]",
      "text/plain": [
       "<Figure size 432x288 with 1 Axes>"
      ]
     },
     "metadata": {
      "needs_background": "light"
     },
     "output_type": "display_data"
    }
   ],
   "source": [
    "# Создадим датафрейм и визуализируем результатаы \n",
    "for clf in dicti:\n",
    "    dfe = pd.DataFrame([[clf, dicti[clf]]], columns=cols)\n",
    "    df = df.append(dfe)\n",
    "    \n",
    "sns.barplot(x='Accuracy', y='Classifier', data=df)"
   ]
  }
 ],
 "metadata": {
  "kernelspec": {
   "display_name": "Python 3",
   "language": "python",
   "name": "python3"
  },
  "language_info": {
   "codemirror_mode": {
    "name": "ipython",
    "version": 3
   },
   "file_extension": ".py",
   "mimetype": "text/x-python",
   "name": "python",
   "nbconvert_exporter": "python",
   "pygments_lexer": "ipython3",
   "version": "3.7.6"
  },
  "papermill": {
   "duration": 13.341407,
   "end_time": "2020-09-12T19:43:13.366551",
   "environment_variables": {},
   "exception": null,
   "input_path": "__notebook__.ipynb",
   "output_path": "__notebook__.ipynb",
   "parameters": {},
   "start_time": "2020-09-12T19:43:00.025144",
   "version": "2.1.0"
  }
 },
 "nbformat": 4,
 "nbformat_minor": 4
}
