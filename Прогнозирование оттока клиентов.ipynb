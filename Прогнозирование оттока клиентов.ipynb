{
 "cells": [
  {
   "cell_type": "markdown",
   "metadata": {
    "papermill": {
     "duration": 0.014032,
     "end_time": "2020-11-12T23:31:12.533810",
     "exception": false,
     "start_time": "2020-11-12T23:31:12.519778",
     "status": "completed"
    },
    "tags": []
   },
   "source": [
    "# Предсказание оттока клиентов "
   ]
  },
  {
   "cell_type": "code",
   "execution_count": 1,
   "metadata": {
    "_cell_guid": "b1076dfc-b9ad-4769-8c92-a6c4dae69d19",
    "_uuid": "8f2839f25d086af736a60e9eeb907d3b93b6e0e5",
    "execution": {
     "iopub.execute_input": "2020-11-12T23:31:12.565879Z",
     "iopub.status.busy": "2020-11-12T23:31:12.565250Z",
     "iopub.status.idle": "2020-11-12T23:31:14.605180Z",
     "shell.execute_reply": "2020-11-12T23:31:14.605745Z"
    },
    "papermill": {
     "duration": 2.060922,
     "end_time": "2020-11-12T23:31:14.605911",
     "exception": false,
     "start_time": "2020-11-12T23:31:12.544989",
     "status": "completed"
    },
    "tags": []
   },
   "outputs": [],
   "source": [
    "import warnings\n",
    "warnings.simplefilter(\"ignore\")\n",
    "\n",
    "#Импортируем библиотеки для анализа\n",
    "import pandas as pd\n",
    "import numpy as np\n",
    "\n",
    "#Импортируем библиотеки для визуализации\n",
    "import matplotlib.pyplot as plt\n",
    "import seaborn as sns\n",
    "\n",
    "from sklearn.preprocessing import LabelEncoder\n",
    "from sklearn.impute import SimpleImputer\n",
    "from sklearn.preprocessing import StandardScaler\n",
    "from sklearn.pipeline import Pipeline\n",
    "from sklearn.compose import ColumnTransformer\n",
    "from sklearn.metrics import roc_auc_score\n",
    "from sklearn.preprocessing import OneHotEncoder\n",
    "from sklearn.neighbors import KNeighborsClassifier\n",
    "from sklearn.svm import SVC\n",
    "from sklearn.tree import DecisionTreeClassifier\n",
    "from sklearn.ensemble import RandomForestClassifier, AdaBoostClassifier, GradientBoostingClassifier\n",
    "from sklearn.naive_bayes import GaussianNB\n",
    "from sklearn.discriminant_analysis import LinearDiscriminantAnalysis, QuadraticDiscriminantAnalysis\n",
    "from sklearn.linear_model import LogisticRegression\n",
    "import xgboost as xgb\n",
    "from sklearn.model_selection import GridSearchCV\n",
    "from sklearn.naive_bayes import MultinomialNB\n",
    "from sklearn.linear_model import SGDClassifier\n",
    "from sklearn.ensemble import RandomForestClassifier, VotingClassifier\n",
    "from sklearn.svm import SVC\n",
    "from sklearn.linear_model import LogisticRegressionCV\n",
    "from sklearn.model_selection import train_test_split, GridSearchCV\n",
    "from sklearn.model_selection import cross_val_score\n"
   ]
  },
  {
   "cell_type": "code",
   "execution_count": 2,
   "metadata": {
    "execution": {
     "iopub.execute_input": "2020-11-12T23:31:14.633274Z",
     "iopub.status.busy": "2020-11-12T23:31:14.632637Z",
     "iopub.status.idle": "2020-11-12T23:31:14.793807Z",
     "shell.execute_reply": "2020-11-12T23:31:14.793268Z"
    },
    "papermill": {
     "duration": 0.17637,
     "end_time": "2020-11-12T23:31:14.793918",
     "exception": false,
     "start_time": "2020-11-12T23:31:14.617548",
     "status": "completed"
    },
    "tags": []
   },
   "outputs": [],
   "source": [
    "from catboost import CatBoostClassifier"
   ]
  },
  {
   "cell_type": "code",
   "execution_count": 3,
   "metadata": {
    "execution": {
     "iopub.execute_input": "2020-11-12T23:31:14.822787Z",
     "iopub.status.busy": "2020-11-12T23:31:14.822148Z",
     "iopub.status.idle": "2020-11-12T23:31:14.913230Z",
     "shell.execute_reply": "2020-11-12T23:31:14.913705Z"
    },
    "papermill": {
     "duration": 0.108311,
     "end_time": "2020-11-12T23:31:14.913843",
     "exception": false,
     "start_time": "2020-11-12T23:31:14.805532",
     "status": "completed"
    },
    "tags": []
   },
   "outputs": [
    {
     "data": {
      "text/html": [
       "<div>\n",
       "<style scoped>\n",
       "    .dataframe tbody tr th:only-of-type {\n",
       "        vertical-align: middle;\n",
       "    }\n",
       "\n",
       "    .dataframe tbody tr th {\n",
       "        vertical-align: top;\n",
       "    }\n",
       "\n",
       "    .dataframe thead th {\n",
       "        text-align: right;\n",
       "    }\n",
       "</style>\n",
       "<table border=\"1\" class=\"dataframe\">\n",
       "  <thead>\n",
       "    <tr style=\"text-align: right;\">\n",
       "      <th></th>\n",
       "      <th>ClientPeriod</th>\n",
       "      <th>MonthlySpending</th>\n",
       "      <th>TotalSpent</th>\n",
       "      <th>Sex</th>\n",
       "      <th>IsSeniorCitizen</th>\n",
       "      <th>HasPartner</th>\n",
       "      <th>HasChild</th>\n",
       "      <th>HasPhoneService</th>\n",
       "      <th>HasMultiplePhoneNumbers</th>\n",
       "      <th>HasInternetService</th>\n",
       "      <th>HasOnlineSecurityService</th>\n",
       "      <th>HasOnlineBackup</th>\n",
       "      <th>HasDeviceProtection</th>\n",
       "      <th>HasTechSupportAccess</th>\n",
       "      <th>HasOnlineTV</th>\n",
       "      <th>HasMovieSubscription</th>\n",
       "      <th>HasContractPhone</th>\n",
       "      <th>IsBillingPaperless</th>\n",
       "      <th>PaymentMethod</th>\n",
       "      <th>Churn</th>\n",
       "    </tr>\n",
       "  </thead>\n",
       "  <tbody>\n",
       "    <tr>\n",
       "      <th>0</th>\n",
       "      <td>55</td>\n",
       "      <td>19.50</td>\n",
       "      <td>1026.35</td>\n",
       "      <td>Male</td>\n",
       "      <td>0</td>\n",
       "      <td>Yes</td>\n",
       "      <td>Yes</td>\n",
       "      <td>Yes</td>\n",
       "      <td>No</td>\n",
       "      <td>No</td>\n",
       "      <td>No internet service</td>\n",
       "      <td>No internet service</td>\n",
       "      <td>No internet service</td>\n",
       "      <td>No internet service</td>\n",
       "      <td>No internet service</td>\n",
       "      <td>No internet service</td>\n",
       "      <td>One year</td>\n",
       "      <td>No</td>\n",
       "      <td>Mailed check</td>\n",
       "      <td>0</td>\n",
       "    </tr>\n",
       "    <tr>\n",
       "      <th>1</th>\n",
       "      <td>72</td>\n",
       "      <td>25.85</td>\n",
       "      <td>1872.2</td>\n",
       "      <td>Male</td>\n",
       "      <td>0</td>\n",
       "      <td>Yes</td>\n",
       "      <td>No</td>\n",
       "      <td>Yes</td>\n",
       "      <td>Yes</td>\n",
       "      <td>No</td>\n",
       "      <td>No internet service</td>\n",
       "      <td>No internet service</td>\n",
       "      <td>No internet service</td>\n",
       "      <td>No internet service</td>\n",
       "      <td>No internet service</td>\n",
       "      <td>No internet service</td>\n",
       "      <td>Two year</td>\n",
       "      <td>No</td>\n",
       "      <td>Credit card (automatic)</td>\n",
       "      <td>0</td>\n",
       "    </tr>\n",
       "    <tr>\n",
       "      <th>2</th>\n",
       "      <td>1</td>\n",
       "      <td>75.90</td>\n",
       "      <td>75.9</td>\n",
       "      <td>Male</td>\n",
       "      <td>0</td>\n",
       "      <td>No</td>\n",
       "      <td>No</td>\n",
       "      <td>Yes</td>\n",
       "      <td>No</td>\n",
       "      <td>Fiber optic</td>\n",
       "      <td>No</td>\n",
       "      <td>No</td>\n",
       "      <td>No</td>\n",
       "      <td>Yes</td>\n",
       "      <td>No</td>\n",
       "      <td>No</td>\n",
       "      <td>Month-to-month</td>\n",
       "      <td>Yes</td>\n",
       "      <td>Electronic check</td>\n",
       "      <td>1</td>\n",
       "    </tr>\n",
       "    <tr>\n",
       "      <th>3</th>\n",
       "      <td>32</td>\n",
       "      <td>79.30</td>\n",
       "      <td>2570</td>\n",
       "      <td>Female</td>\n",
       "      <td>1</td>\n",
       "      <td>Yes</td>\n",
       "      <td>No</td>\n",
       "      <td>Yes</td>\n",
       "      <td>Yes</td>\n",
       "      <td>Fiber optic</td>\n",
       "      <td>No</td>\n",
       "      <td>No</td>\n",
       "      <td>Yes</td>\n",
       "      <td>No</td>\n",
       "      <td>No</td>\n",
       "      <td>No</td>\n",
       "      <td>Month-to-month</td>\n",
       "      <td>No</td>\n",
       "      <td>Mailed check</td>\n",
       "      <td>0</td>\n",
       "    </tr>\n",
       "    <tr>\n",
       "      <th>4</th>\n",
       "      <td>60</td>\n",
       "      <td>115.25</td>\n",
       "      <td>6758.45</td>\n",
       "      <td>Female</td>\n",
       "      <td>0</td>\n",
       "      <td>Yes</td>\n",
       "      <td>Yes</td>\n",
       "      <td>Yes</td>\n",
       "      <td>Yes</td>\n",
       "      <td>Fiber optic</td>\n",
       "      <td>Yes</td>\n",
       "      <td>Yes</td>\n",
       "      <td>Yes</td>\n",
       "      <td>Yes</td>\n",
       "      <td>Yes</td>\n",
       "      <td>Yes</td>\n",
       "      <td>Two year</td>\n",
       "      <td>No</td>\n",
       "      <td>Credit card (automatic)</td>\n",
       "      <td>0</td>\n",
       "    </tr>\n",
       "    <tr>\n",
       "      <th>...</th>\n",
       "      <td>...</td>\n",
       "      <td>...</td>\n",
       "      <td>...</td>\n",
       "      <td>...</td>\n",
       "      <td>...</td>\n",
       "      <td>...</td>\n",
       "      <td>...</td>\n",
       "      <td>...</td>\n",
       "      <td>...</td>\n",
       "      <td>...</td>\n",
       "      <td>...</td>\n",
       "      <td>...</td>\n",
       "      <td>...</td>\n",
       "      <td>...</td>\n",
       "      <td>...</td>\n",
       "      <td>...</td>\n",
       "      <td>...</td>\n",
       "      <td>...</td>\n",
       "      <td>...</td>\n",
       "      <td>...</td>\n",
       "    </tr>\n",
       "    <tr>\n",
       "      <th>5277</th>\n",
       "      <td>3</td>\n",
       "      <td>30.40</td>\n",
       "      <td>82.15</td>\n",
       "      <td>Male</td>\n",
       "      <td>0</td>\n",
       "      <td>No</td>\n",
       "      <td>No</td>\n",
       "      <td>No</td>\n",
       "      <td>No phone service</td>\n",
       "      <td>DSL</td>\n",
       "      <td>No</td>\n",
       "      <td>No</td>\n",
       "      <td>No</td>\n",
       "      <td>Yes</td>\n",
       "      <td>No</td>\n",
       "      <td>No</td>\n",
       "      <td>Month-to-month</td>\n",
       "      <td>No</td>\n",
       "      <td>Electronic check</td>\n",
       "      <td>0</td>\n",
       "    </tr>\n",
       "    <tr>\n",
       "      <th>5278</th>\n",
       "      <td>50</td>\n",
       "      <td>44.45</td>\n",
       "      <td>2188.45</td>\n",
       "      <td>Male</td>\n",
       "      <td>0</td>\n",
       "      <td>Yes</td>\n",
       "      <td>No</td>\n",
       "      <td>No</td>\n",
       "      <td>No phone service</td>\n",
       "      <td>DSL</td>\n",
       "      <td>Yes</td>\n",
       "      <td>No</td>\n",
       "      <td>No</td>\n",
       "      <td>Yes</td>\n",
       "      <td>Yes</td>\n",
       "      <td>No</td>\n",
       "      <td>One year</td>\n",
       "      <td>Yes</td>\n",
       "      <td>Bank transfer (automatic)</td>\n",
       "      <td>0</td>\n",
       "    </tr>\n",
       "    <tr>\n",
       "      <th>5279</th>\n",
       "      <td>1</td>\n",
       "      <td>55.05</td>\n",
       "      <td>55.05</td>\n",
       "      <td>Male</td>\n",
       "      <td>0</td>\n",
       "      <td>No</td>\n",
       "      <td>No</td>\n",
       "      <td>Yes</td>\n",
       "      <td>No</td>\n",
       "      <td>DSL</td>\n",
       "      <td>No</td>\n",
       "      <td>No</td>\n",
       "      <td>Yes</td>\n",
       "      <td>Yes</td>\n",
       "      <td>No</td>\n",
       "      <td>No</td>\n",
       "      <td>Month-to-month</td>\n",
       "      <td>No</td>\n",
       "      <td>Mailed check</td>\n",
       "      <td>0</td>\n",
       "    </tr>\n",
       "    <tr>\n",
       "      <th>5280</th>\n",
       "      <td>29</td>\n",
       "      <td>76.00</td>\n",
       "      <td>2215.25</td>\n",
       "      <td>Female</td>\n",
       "      <td>0</td>\n",
       "      <td>No</td>\n",
       "      <td>No</td>\n",
       "      <td>Yes</td>\n",
       "      <td>Yes</td>\n",
       "      <td>Fiber optic</td>\n",
       "      <td>No</td>\n",
       "      <td>No</td>\n",
       "      <td>No</td>\n",
       "      <td>No</td>\n",
       "      <td>No</td>\n",
       "      <td>No</td>\n",
       "      <td>Month-to-month</td>\n",
       "      <td>Yes</td>\n",
       "      <td>Credit card (automatic)</td>\n",
       "      <td>0</td>\n",
       "    </tr>\n",
       "    <tr>\n",
       "      <th>5281</th>\n",
       "      <td>19</td>\n",
       "      <td>75.90</td>\n",
       "      <td>1375.6</td>\n",
       "      <td>Female</td>\n",
       "      <td>0</td>\n",
       "      <td>No</td>\n",
       "      <td>Yes</td>\n",
       "      <td>Yes</td>\n",
       "      <td>Yes</td>\n",
       "      <td>DSL</td>\n",
       "      <td>Yes</td>\n",
       "      <td>Yes</td>\n",
       "      <td>No</td>\n",
       "      <td>Yes</td>\n",
       "      <td>Yes</td>\n",
       "      <td>No</td>\n",
       "      <td>Month-to-month</td>\n",
       "      <td>Yes</td>\n",
       "      <td>Mailed check</td>\n",
       "      <td>0</td>\n",
       "    </tr>\n",
       "  </tbody>\n",
       "</table>\n",
       "<p>5282 rows × 20 columns</p>\n",
       "</div>"
      ],
      "text/plain": [
       "      ClientPeriod  MonthlySpending TotalSpent     Sex  IsSeniorCitizen  \\\n",
       "0               55            19.50    1026.35    Male                0   \n",
       "1               72            25.85     1872.2    Male                0   \n",
       "2                1            75.90       75.9    Male                0   \n",
       "3               32            79.30       2570  Female                1   \n",
       "4               60           115.25    6758.45  Female                0   \n",
       "...            ...              ...        ...     ...              ...   \n",
       "5277             3            30.40      82.15    Male                0   \n",
       "5278            50            44.45    2188.45    Male                0   \n",
       "5279             1            55.05      55.05    Male                0   \n",
       "5280            29            76.00    2215.25  Female                0   \n",
       "5281            19            75.90     1375.6  Female                0   \n",
       "\n",
       "     HasPartner HasChild HasPhoneService HasMultiplePhoneNumbers  \\\n",
       "0           Yes      Yes             Yes                      No   \n",
       "1           Yes       No             Yes                     Yes   \n",
       "2            No       No             Yes                      No   \n",
       "3           Yes       No             Yes                     Yes   \n",
       "4           Yes      Yes             Yes                     Yes   \n",
       "...         ...      ...             ...                     ...   \n",
       "5277         No       No              No        No phone service   \n",
       "5278        Yes       No              No        No phone service   \n",
       "5279         No       No             Yes                      No   \n",
       "5280         No       No             Yes                     Yes   \n",
       "5281         No      Yes             Yes                     Yes   \n",
       "\n",
       "     HasInternetService HasOnlineSecurityService      HasOnlineBackup  \\\n",
       "0                    No      No internet service  No internet service   \n",
       "1                    No      No internet service  No internet service   \n",
       "2           Fiber optic                       No                   No   \n",
       "3           Fiber optic                       No                   No   \n",
       "4           Fiber optic                      Yes                  Yes   \n",
       "...                 ...                      ...                  ...   \n",
       "5277                DSL                       No                   No   \n",
       "5278                DSL                      Yes                   No   \n",
       "5279                DSL                       No                   No   \n",
       "5280        Fiber optic                       No                   No   \n",
       "5281                DSL                      Yes                  Yes   \n",
       "\n",
       "      HasDeviceProtection HasTechSupportAccess          HasOnlineTV  \\\n",
       "0     No internet service  No internet service  No internet service   \n",
       "1     No internet service  No internet service  No internet service   \n",
       "2                      No                  Yes                   No   \n",
       "3                     Yes                   No                   No   \n",
       "4                     Yes                  Yes                  Yes   \n",
       "...                   ...                  ...                  ...   \n",
       "5277                   No                  Yes                   No   \n",
       "5278                   No                  Yes                  Yes   \n",
       "5279                  Yes                  Yes                   No   \n",
       "5280                   No                   No                   No   \n",
       "5281                   No                  Yes                  Yes   \n",
       "\n",
       "     HasMovieSubscription HasContractPhone IsBillingPaperless  \\\n",
       "0     No internet service         One year                 No   \n",
       "1     No internet service         Two year                 No   \n",
       "2                      No   Month-to-month                Yes   \n",
       "3                      No   Month-to-month                 No   \n",
       "4                     Yes         Two year                 No   \n",
       "...                   ...              ...                ...   \n",
       "5277                   No   Month-to-month                 No   \n",
       "5278                   No         One year                Yes   \n",
       "5279                   No   Month-to-month                 No   \n",
       "5280                   No   Month-to-month                Yes   \n",
       "5281                   No   Month-to-month                Yes   \n",
       "\n",
       "                  PaymentMethod  Churn  \n",
       "0                  Mailed check      0  \n",
       "1       Credit card (automatic)      0  \n",
       "2              Electronic check      1  \n",
       "3                  Mailed check      0  \n",
       "4       Credit card (automatic)      0  \n",
       "...                         ...    ...  \n",
       "5277           Electronic check      0  \n",
       "5278  Bank transfer (automatic)      0  \n",
       "5279               Mailed check      0  \n",
       "5280    Credit card (automatic)      0  \n",
       "5281               Mailed check      0  \n",
       "\n",
       "[5282 rows x 20 columns]"
      ]
     },
     "execution_count": 3,
     "metadata": {},
     "output_type": "execute_result"
    }
   ],
   "source": [
    "train_df = pd.read_csv('../input/advanced-dls-fall-2020/train.csv')\n",
    "test_df = pd.read_csv('../input/advanced-dls-fall-2020/test.csv')\n",
    "\n",
    "train_df"
   ]
  },
  {
   "cell_type": "code",
   "execution_count": 4,
   "metadata": {
    "execution": {
     "iopub.execute_input": "2020-11-12T23:31:14.964306Z",
     "iopub.status.busy": "2020-11-12T23:31:14.959038Z",
     "iopub.status.idle": "2020-11-12T23:31:15.085389Z",
     "shell.execute_reply": "2020-11-12T23:31:15.084822Z"
    },
    "papermill": {
     "duration": 0.159163,
     "end_time": "2020-11-12T23:31:15.085499",
     "exception": false,
     "start_time": "2020-11-12T23:31:14.926336",
     "status": "completed"
    },
    "tags": []
   },
   "outputs": [],
   "source": [
    "train_df['TotalSpent'] = train_df['TotalSpent'].apply(pd.to_numeric, errors='coerce')\n",
    "test_df['TotalSpent'] = test_df['TotalSpent'].apply(pd.to_numeric, errors='coerce')"
   ]
  },
  {
   "cell_type": "code",
   "execution_count": 5,
   "metadata": {
    "execution": {
     "iopub.execute_input": "2020-11-12T23:31:15.120799Z",
     "iopub.status.busy": "2020-11-12T23:31:15.119833Z",
     "iopub.status.idle": "2020-11-12T23:31:15.127050Z",
     "shell.execute_reply": "2020-11-12T23:31:15.126483Z"
    },
    "papermill": {
     "duration": 0.028371,
     "end_time": "2020-11-12T23:31:15.127173",
     "exception": false,
     "start_time": "2020-11-12T23:31:15.098802",
     "status": "completed"
    },
    "tags": []
   },
   "outputs": [
    {
     "data": {
      "text/plain": [
       "ClientPeriod                0\n",
       "MonthlySpending             0\n",
       "TotalSpent                  9\n",
       "Sex                         0\n",
       "IsSeniorCitizen             0\n",
       "HasPartner                  0\n",
       "HasChild                    0\n",
       "HasPhoneService             0\n",
       "HasMultiplePhoneNumbers     0\n",
       "HasInternetService          0\n",
       "HasOnlineSecurityService    0\n",
       "HasOnlineBackup             0\n",
       "HasDeviceProtection         0\n",
       "HasTechSupportAccess        0\n",
       "HasOnlineTV                 0\n",
       "HasMovieSubscription        0\n",
       "HasContractPhone            0\n",
       "IsBillingPaperless          0\n",
       "PaymentMethod               0\n",
       "Churn                       0\n",
       "dtype: int64"
      ]
     },
     "execution_count": 5,
     "metadata": {},
     "output_type": "execute_result"
    }
   ],
   "source": [
    "train_df.isna().sum()"
   ]
  },
  {
   "cell_type": "markdown",
   "metadata": {
    "papermill": {
     "duration": 0.013061,
     "end_time": "2020-11-12T23:31:15.153289",
     "exception": false,
     "start_time": "2020-11-12T23:31:15.140228",
     "status": "completed"
    },
    "tags": []
   },
   "source": [
    "Заменим на ноль пропущенные значения, которые возникают в связи с тем, что они возникают у клиентов которые имеют ноль периодов "
   ]
  },
  {
   "cell_type": "code",
   "execution_count": 6,
   "metadata": {
    "execution": {
     "iopub.execute_input": "2020-11-12T23:31:15.186163Z",
     "iopub.status.busy": "2020-11-12T23:31:15.185195Z",
     "iopub.status.idle": "2020-11-12T23:31:15.192055Z",
     "shell.execute_reply": "2020-11-12T23:31:15.191408Z"
    },
    "papermill": {
     "duration": 0.025757,
     "end_time": "2020-11-12T23:31:15.192170",
     "exception": false,
     "start_time": "2020-11-12T23:31:15.166413",
     "status": "completed"
    },
    "tags": []
   },
   "outputs": [],
   "source": [
    "from sklearn.impute import SimpleImputer\n",
    "\n",
    "imputer = SimpleImputer(np.nan,'constant')\n",
    "train_df['TotalSpent'] = imputer.fit_transform(np.array(train_df[['TotalSpent']]))\n",
    "test_df['TotalSpent'] = imputer.fit_transform(np.array(test_df[['TotalSpent']]))"
   ]
  },
  {
   "cell_type": "code",
   "execution_count": 7,
   "metadata": {
    "execution": {
     "iopub.execute_input": "2020-11-12T23:31:15.228247Z",
     "iopub.status.busy": "2020-11-12T23:31:15.226302Z",
     "iopub.status.idle": "2020-11-12T23:31:15.232864Z",
     "shell.execute_reply": "2020-11-12T23:31:15.232246Z"
    },
    "papermill": {
     "duration": 0.027973,
     "end_time": "2020-11-12T23:31:15.233008",
     "exception": false,
     "start_time": "2020-11-12T23:31:15.205035",
     "status": "completed"
    },
    "tags": []
   },
   "outputs": [],
   "source": [
    "train_df['ClientPeriod/MonthlySpending'] = train_df['ClientPeriod'] / train_df['MonthlySpending']\n",
    "test_df['ClientPeriod/MonthlySpending'] = test_df['ClientPeriod'] / test_df['MonthlySpending']\n",
    "train_df['MonthlySpending/ClientPeriod'] = train_df['MonthlySpending'] / train_df['ClientPeriod']\n",
    "test_df['MonthlySpending/ClientPeriod'] = test_df['MonthlySpending'] / test_df['ClientPeriod']\n",
    "train_df['MonthlySpending/ClientPeriod'] = train_df['MonthlySpending/ClientPeriod'].replace([-np.inf, np.inf], [0, 0])\n",
    "test_df['MonthlySpending/ClientPeriod'] = test_df['MonthlySpending/ClientPeriod'].replace([-np.inf, np.inf], [0, 0])"
   ]
  },
  {
   "cell_type": "markdown",
   "metadata": {
    "papermill": {
     "duration": 0.012856,
     "end_time": "2020-11-12T23:31:15.258979",
     "exception": false,
     "start_time": "2020-11-12T23:31:15.246123",
     "status": "completed"
    },
    "tags": []
   },
   "source": [
    "## Визуализируем данные"
   ]
  },
  {
   "cell_type": "code",
   "execution_count": 8,
   "metadata": {
    "execution": {
     "iopub.execute_input": "2020-11-12T23:31:15.304793Z",
     "iopub.status.busy": "2020-11-12T23:31:15.304089Z",
     "iopub.status.idle": "2020-11-12T23:31:18.004513Z",
     "shell.execute_reply": "2020-11-12T23:31:18.005013Z"
    },
    "papermill": {
     "duration": 2.733161,
     "end_time": "2020-11-12T23:31:18.005164",
     "exception": false,
     "start_time": "2020-11-12T23:31:15.272003",
     "status": "completed"
    },
    "tags": []
   },
   "outputs": [
    {
     "data": {
      "image/png": "[encoded data removed]",
      "text/plain": [
       "<Figure size 1440x2880 with 19 Axes>"
      ]
     },
     "metadata": {
      "needs_background": "light"
     },
     "output_type": "display_data"
    }
   ],
   "source": [
    "fig = plt.figure(figsize=(20,40))\n",
    "\n",
    "ax_1 = fig.add_subplot(9, 3, 1)\n",
    "ax_1 = sns.distplot(train_df[\"ClientPeriod\"], kde = False )\n",
    "ax_1 = plt.title('Гистограмма периодов')\n",
    "ax_2 = fig.add_subplot(9, 3, 2)\n",
    "ax_2 = sns.distplot(train_df[\"MonthlySpending\"], kde = True )\n",
    "ax_2 = plt.title('Гистограмма распределения месячных трат')\n",
    "ax_3 = fig.add_subplot(9, 3, 3)\n",
    "sns.boxplot(x = train_df[\"MonthlySpending\"],y =train_df[\"Churn\"] , orient = \"h\")\n",
    "ax_4 = fig.add_subplot(9, 3, 4)\n",
    "sns.countplot(x='Churn', hue='Sex', data=train_df)\n",
    "ax_5 = fig.add_subplot(9, 3, 5)\n",
    "sns.countplot(x='Churn', hue='IsSeniorCitizen', data=train_df)\n",
    "ax_6 = fig.add_subplot(9, 3, 6)\n",
    "sns.countplot(x='Churn', hue='HasPartner', data=train_df)\n",
    "ax_7 = fig.add_subplot(9, 3, 7)\n",
    "sns.countplot(x='Churn', hue='HasChild', data=train_df)\n",
    "ax_8 = fig.add_subplot(9, 3, 8)\n",
    "sns.countplot(x='Churn', hue='HasPhoneService', data=train_df)\n",
    "ax_9 = fig.add_subplot(9, 3, 9)\n",
    "sns.countplot(x='Churn', hue='HasMultiplePhoneNumbers', data=train_df)\n",
    "ax_10 = fig.add_subplot(9, 3, 10)\n",
    "sns.countplot(x='Churn', hue='HasInternetService', data=train_df)\n",
    "ax_11 = fig.add_subplot(9, 3, 11)\n",
    "sns.countplot(x='Churn', hue='HasOnlineSecurityService', data=train_df)\n",
    "ax_12 = fig.add_subplot(9, 3, 12)\n",
    "sns.countplot(x='Churn', hue='HasOnlineBackup', data=train_df)\n",
    "ax_13 = fig.add_subplot(9, 3, 13)\n",
    "sns.countplot(x='Churn', hue='HasDeviceProtection', data=train_df)\n",
    "ax_14 = fig.add_subplot(9, 3, 14)\n",
    "sns.countplot(x='Churn', hue='HasTechSupportAccess', data=train_df)\n",
    "ax_15 = fig.add_subplot(9, 3, 15)\n",
    "sns.countplot(x='Churn', hue='HasOnlineTV', data=train_df)\n",
    "ax_16 = fig.add_subplot(9, 3, 16)\n",
    "sns.countplot(x='Churn', hue='HasMovieSubscription', data=train_df)\n",
    "ax_17 = fig.add_subplot(9, 3, 17)\n",
    "sns.countplot(x='Churn', hue='HasContractPhone', data=train_df)\n",
    "ax_18 = fig.add_subplot(9, 3, 18)\n",
    "sns.countplot(x='Churn', hue='IsBillingPaperless', data=train_df)\n",
    "ax_19 = fig.add_subplot(9, 3, 19)\n",
    "sns.countplot(x='Churn', hue='PaymentMethod', data=train_df)\n",
    "plt.show()"
   ]
  },
  {
   "cell_type": "code",
   "execution_count": 9,
   "metadata": {
    "execution": {
     "iopub.execute_input": "2020-11-12T23:31:18.045902Z",
     "iopub.status.busy": "2020-11-12T23:31:18.044889Z",
     "iopub.status.idle": "2020-11-12T23:31:18.055998Z",
     "shell.execute_reply": "2020-11-12T23:31:18.055380Z"
    },
    "papermill": {
     "duration": 0.033645,
     "end_time": "2020-11-12T23:31:18.056114",
     "exception": false,
     "start_time": "2020-11-12T23:31:18.022469",
     "status": "completed"
    },
    "tags": []
   },
   "outputs": [],
   "source": [
    "X= train_df.drop(['Churn'], 1)\n",
    "y= train_df['Churn']\n",
    "\n",
    "X_train, X_test, y_train, y_test = train_test_split(X, y, test_size=0.3, random_state=0)"
   ]
  },
  {
   "cell_type": "code",
   "execution_count": 10,
   "metadata": {
    "execution": {
     "iopub.execute_input": "2020-11-12T23:31:18.096815Z",
     "iopub.status.busy": "2020-11-12T23:31:18.096123Z",
     "iopub.status.idle": "2020-11-12T23:31:18.099199Z",
     "shell.execute_reply": "2020-11-12T23:31:18.098655Z"
    },
    "papermill": {
     "duration": 0.025073,
     "end_time": "2020-11-12T23:31:18.099309",
     "exception": false,
     "start_time": "2020-11-12T23:31:18.074236",
     "status": "completed"
    },
    "tags": []
   },
   "outputs": [],
   "source": [
    "cat = ['HasMultiplePhoneNumbers','HasInternetService','HasOnlineSecurityService','HasOnlineBackup','HasDeviceProtection','HasTechSupportAccess','HasOnlineTV','HasMovieSubscription','HasContractPhone','PaymentMethod']\n",
    "\n",
    "integer = ['MonthlySpending','TotalSpent','ClientPeriod/MonthlySpending','MonthlySpending/ClientPeriod']"
   ]
  },
  {
   "cell_type": "code",
   "execution_count": 11,
   "metadata": {
    "execution": {
     "iopub.execute_input": "2020-11-12T23:31:18.140320Z",
     "iopub.status.busy": "2020-11-12T23:31:18.139576Z",
     "iopub.status.idle": "2020-11-12T23:31:18.142887Z",
     "shell.execute_reply": "2020-11-12T23:31:18.142230Z"
    },
    "papermill": {
     "duration": 0.026715,
     "end_time": "2020-11-12T23:31:18.143029",
     "exception": false,
     "start_time": "2020-11-12T23:31:18.116314",
     "status": "completed"
    },
    "tags": []
   },
   "outputs": [],
   "source": [
    "numerical_transformer = Pipeline(steps=[\n",
    "    ('scaler', StandardScaler())])\n",
    "\n",
    "categorical_transformer = Pipeline(steps=[\n",
    "    ('onehot', OneHotEncoder(handle_unknown='ignore'))])\n",
    "\n",
    "data_transformer = ColumnTransformer(\n",
    "    transformers=[\n",
    "        ('numerical', numerical_transformer, integer),\n",
    "        ('categorical', categorical_transformer, cat)])\n",
    "\n",
    "preprocessor = Pipeline(steps=[('data_transformer', data_transformer)])\n"
   ]
  },
  {
   "cell_type": "code",
   "execution_count": 12,
   "metadata": {
    "execution": {
     "iopub.execute_input": "2020-11-12T23:31:18.189076Z",
     "iopub.status.busy": "2020-11-12T23:31:18.185183Z",
     "iopub.status.idle": "2020-11-12T23:31:28.483625Z",
     "shell.execute_reply": "2020-11-12T23:31:28.484285Z"
    },
    "papermill": {
     "duration": 10.324329,
     "end_time": "2020-11-12T23:31:28.484468",
     "exception": false,
     "start_time": "2020-11-12T23:31:18.160139",
     "status": "completed"
    },
    "tags": []
   },
   "outputs": [],
   "source": [
    "cols = [\"Classifier\", \"Accuracy\"]\n",
    "df = pd.DataFrame(columns=cols)\n",
    "\n",
    "dicti = {}\n",
    "\n",
    "classifiers = [\n",
    "    KNeighborsClassifier(3),\n",
    "    SVC(probability=True),\n",
    "    DecisionTreeClassifier(),\n",
    "    RandomForestClassifier(),\n",
    "    AdaBoostClassifier(),\n",
    "    GradientBoostingClassifier(),\n",
    "    GaussianNB(),\n",
    "    LinearDiscriminantAnalysis(),\n",
    "    QuadraticDiscriminantAnalysis(),\n",
    "    LogisticRegression(C = 0.35938137)]\n",
    "\n",
    "for clf in classifiers:\n",
    "    classifier = Pipeline(steps=[('preprocessor', preprocessor), ('classifier', clf)])\n",
    "    cv_results = cross_val_score(classifier, X_train, y_train, scoring=\"roc_auc\", cv=3)\n",
    "    res = np.mean(cv_results)\n",
    "    name =clf.__class__.__name__\n",
    "    dicti[name] = res\n",
    "    \n",
    "    \n",
    "classifier = Pipeline(steps=[('preprocessor', preprocessor), ('classifier', xgb.XGBClassifier(objective='binary:logistic', seed=0))])                  \n",
    "cv_results = cross_val_score(classifier, X_train, y_train, scoring=\"roc_auc\", cv=3)\n",
    "dicti['XGBClassifier'] = np.mean(cv_results)"
   ]
  },
  {
   "cell_type": "code",
   "execution_count": 13,
   "metadata": {
    "execution": {
     "iopub.execute_input": "2020-11-12T23:31:28.544762Z",
     "iopub.status.busy": "2020-11-12T23:31:28.543785Z",
     "iopub.status.idle": "2020-11-12T23:31:28.763588Z",
     "shell.execute_reply": "2020-11-12T23:31:28.763120Z"
    },
    "papermill": {
     "duration": 0.255464,
     "end_time": "2020-11-12T23:31:28.763696",
     "exception": false,
     "start_time": "2020-11-12T23:31:28.508232",
     "status": "completed"
    },
    "tags": []
   },
   "outputs": [
    {
     "data": {
      "image/png": "[encoded data removed]",
      "text/plain": [
       "<Figure size 432x288 with 1 Axes>"
      ]
     },
     "metadata": {
      "needs_background": "light"
     },
     "output_type": "display_data"
    }
   ],
   "source": [
    "for clf in dicti:\n",
    "    dfe = pd.DataFrame([[clf, dicti[clf]]], columns=cols)\n",
    "    df = df.append(dfe)\n",
    "    \n",
    "sns.barplot(x='Accuracy', y='Classifier', data=df)\n",
    "plt.show()"
   ]
  },
  {
   "cell_type": "markdown",
   "metadata": {
    "papermill": {
     "duration": 0.017595,
     "end_time": "2020-11-12T23:31:28.799642",
     "exception": false,
     "start_time": "2020-11-12T23:31:28.782047",
     "status": "completed"
    },
    "tags": []
   },
   "source": [
    "Логистическая регрессия при настройке параметров позволяет добитаться точности 0.85 ROC-AUC score\n",
    "В свою очередь использование catboost позволяет поднять результат выше 0.85 "
   ]
  },
  {
   "cell_type": "code",
   "execution_count": 14,
   "metadata": {
    "execution": {
     "iopub.execute_input": "2020-11-12T23:31:28.841298Z",
     "iopub.status.busy": "2020-11-12T23:31:28.840405Z",
     "iopub.status.idle": "2020-11-12T23:31:28.843713Z",
     "shell.execute_reply": "2020-11-12T23:31:28.843187Z"
    },
    "papermill": {
     "duration": 0.026094,
     "end_time": "2020-11-12T23:31:28.843816",
     "exception": false,
     "start_time": "2020-11-12T23:31:28.817722",
     "status": "completed"
    },
    "tags": []
   },
   "outputs": [],
   "source": [
    "categorical_features = ['Sex', 'IsSeniorCitizen','HasPartner', 'HasChild', 'HasPhoneService',\n",
    "       'HasMultiplePhoneNumbers', 'HasInternetService',\n",
    "       'HasOnlineSecurityService', 'HasOnlineBackup', 'HasDeviceProtection',\n",
    "       'HasTechSupportAccess', 'HasOnlineTV', 'HasMovieSubscription',\n",
    "       'HasContractPhone', 'IsBillingPaperless', 'PaymentMethod']"
   ]
  },
  {
   "cell_type": "code",
   "execution_count": 15,
   "metadata": {
    "execution": {
     "iopub.execute_input": "2020-11-12T23:31:28.887159Z",
     "iopub.status.busy": "2020-11-12T23:31:28.886533Z",
     "iopub.status.idle": "2020-11-12T23:31:28.889598Z",
     "shell.execute_reply": "2020-11-12T23:31:28.889067Z"
    },
    "papermill": {
     "duration": 0.027715,
     "end_time": "2020-11-12T23:31:28.889703",
     "exception": false,
     "start_time": "2020-11-12T23:31:28.861988",
     "status": "completed"
    },
    "tags": []
   },
   "outputs": [],
   "source": [
    "model = CatBoostClassifier(depth = 6, loss_function = 'Logloss',bootstrap_type = 'MVS', iterations = 300,l2_leaf_reg = 0.864406779661017, cat_features =categorical_features,  eval_metric = 'AUC',verbose=False)"
   ]
  },
  {
   "cell_type": "code",
   "execution_count": 16,
   "metadata": {
    "execution": {
     "iopub.execute_input": "2020-11-12T23:31:28.954601Z",
     "iopub.status.busy": "2020-11-12T23:31:28.953916Z",
     "iopub.status.idle": "2020-11-12T23:31:31.942312Z",
     "shell.execute_reply": "2020-11-12T23:31:31.941396Z"
    },
    "papermill": {
     "duration": 3.03436,
     "end_time": "2020-11-12T23:31:31.942439",
     "exception": false,
     "start_time": "2020-11-12T23:31:28.908079",
     "status": "completed"
    },
    "tags": []
   },
   "outputs": [
    {
     "name": "stdout",
     "output_type": "stream",
     "text": [
      "0.8369067037065354\n"
     ]
    }
   ],
   "source": [
    "model.fit(X_train,y_train)\n",
    "pred =model.predict_proba(X_test)\n",
    "print(roc_auc_score(y_test,pred[:,1]))\n"
   ]
  },
  {
   "cell_type": "markdown",
   "metadata": {
    "papermill": {
     "duration": 0.018363,
     "end_time": "2020-11-12T23:31:31.979624",
     "exception": false,
     "start_time": "2020-11-12T23:31:31.961261",
     "status": "completed"
    },
    "tags": []
   },
   "source": [
    "Пока данные настройки модели дают скор на тестовых данных в кэгл 0.85357\n",
    "\t"
   ]
  }
 ],
 "metadata": {
  "kernelspec": {
   "display_name": "Python 3",
   "language": "python",
   "name": "python3"
  },
  "language_info": {
   "codemirror_mode": {
    "name": "ipython",
    "version": 3
   },
   "file_extension": ".py",
   "mimetype": "text/x-python",
   "name": "python",
   "nbconvert_exporter": "python",
   "pygments_lexer": "ipython3",
   "version": "3.7.6"
  },
  "papermill": {
   "duration": 23.715062,
   "end_time": "2020-11-12T23:31:32.106178",
   "environment_variables": {},
   "exception": null,
   "input_path": "__notebook__.ipynb",
   "output_path": "__notebook__.ipynb",
   "parameters": {},
   "start_time": "2020-11-12T23:31:08.391116",
   "version": "2.1.0"
  }
 },
 "nbformat": 4,
 "nbformat_minor": 4
}
